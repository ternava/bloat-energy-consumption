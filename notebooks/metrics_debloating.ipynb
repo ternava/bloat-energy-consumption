{
 "cells": [
  {
   "cell_type": "code",
   "execution_count": 2,
   "metadata": {
    "ExecuteTime": {
     "end_time": "2023-08-01T12:54:25.463624258Z",
     "start_time": "2023-08-01T12:54:25.445431468Z"
    }
   },
   "outputs": [],
   "source": [
    "import os\n",
    "import pandas as pd\n",
    "import csv\n"
   ]
  },
  {
   "cell_type": "code",
   "execution_count": 1,
   "metadata": {
    "ExecuteTime": {
     "end_time": "2023-08-01T12:54:24.609543009Z",
     "start_time": "2023-08-01T12:54:24.608909213Z"
    }
   },
   "outputs": [
    {
     "name": "stdout",
     "output_type": "stream",
     "text": [
      "/home/qperez/PycharmProjects/bloat-energy-consumption /home/qperez/PycharmProjects/bloat-energy-consumption/notebooks /home/qperez/PycharmProjects/bloat-energy-consumption/notebooks/debloating_results /home/qperez/PycharmProjects/bloat-energy-consumption/notebooks/data/debloating /home/qperez/PycharmProjects/bloat-energy-consumption/pre-experiment\n"
     ]
    }
   ],
   "source": [
    "import os\n",
    "\n",
    "# Get the directory with the notebooks, including its subdirectories\n",
    "current_dir = os.getcwd()\n",
    "\n",
    "# Get the directories with data and results\n",
    "data_dir = os.path.join(current_dir, \"data/debloating\")\n",
    "temporary_dir= os.path.join(current_dir, \"debloating_temporary_data\")\n",
    "results_dir = os.path.join(current_dir, \"debloating_results\")\n",
    "\n",
    "project_dir = os.path.dirname(current_dir)\n",
    "\n",
    "pre_experiment_dir = os.path.join(project_dir, \"pre-experiment\")\n",
    "\n",
    "print(project_dir, current_dir, results_dir, data_dir, pre_experiment_dir)"
   ]
  },
  {
   "cell_type": "code",
   "execution_count": 9,
   "metadata": {
    "ExecuteTime": {
     "end_time": "2023-08-01T15:21:15.430018053Z",
     "start_time": "2023-08-01T15:21:15.382489796Z"
    }
   },
   "outputs": [
    {
     "data": {
      "text/plain": "        Program Utilities   PSYS\n0          date   bloated  0.288\n1          date    chisel  0.284\n2          date       cov  0.284\n3          date     debop  0.284\n4          grep   bloated  0.317\n5          grep    chisel  0.457\n6          grep       cov  0.315\n7          grep     debop  0.315\n8          gzip   bloated  0.335\n9          gzip    chisel  0.549\n10         gzip       cov  0.332\n11         gzip     debop  0.332\n12        mkdir   bloated  0.289\n13        mkdir    chisel  0.288\n14        mkdir       cov  0.288\n15        mkdir     debop  0.288\n16  printokens2   bloated  0.282\n17  printokens2    chisel  0.281\n18  printokens2       cov  0.285\n19  printokens2     debop  0.282\n20          sed   bloated  0.286\n21          sed    chisel  0.289\n22          sed       cov  0.290\n23          sed     debop  0.287",
      "text/html": "<div>\n<style scoped>\n    .dataframe tbody tr th:only-of-type {\n        vertical-align: middle;\n    }\n\n    .dataframe tbody tr th {\n        vertical-align: top;\n    }\n\n    .dataframe thead th {\n        text-align: right;\n    }\n</style>\n<table border=\"1\" class=\"dataframe\">\n  <thead>\n    <tr style=\"text-align: right;\">\n      <th></th>\n      <th>Program</th>\n      <th>Utilities</th>\n      <th>PSYS</th>\n    </tr>\n  </thead>\n  <tbody>\n    <tr>\n      <th>0</th>\n      <td>date</td>\n      <td>bloated</td>\n      <td>0.288</td>\n    </tr>\n    <tr>\n      <th>1</th>\n      <td>date</td>\n      <td>chisel</td>\n      <td>0.284</td>\n    </tr>\n    <tr>\n      <th>2</th>\n      <td>date</td>\n      <td>cov</td>\n      <td>0.284</td>\n    </tr>\n    <tr>\n      <th>3</th>\n      <td>date</td>\n      <td>debop</td>\n      <td>0.284</td>\n    </tr>\n    <tr>\n      <th>4</th>\n      <td>grep</td>\n      <td>bloated</td>\n      <td>0.317</td>\n    </tr>\n    <tr>\n      <th>5</th>\n      <td>grep</td>\n      <td>chisel</td>\n      <td>0.457</td>\n    </tr>\n    <tr>\n      <th>6</th>\n      <td>grep</td>\n      <td>cov</td>\n      <td>0.315</td>\n    </tr>\n    <tr>\n      <th>7</th>\n      <td>grep</td>\n      <td>debop</td>\n      <td>0.315</td>\n    </tr>\n    <tr>\n      <th>8</th>\n      <td>gzip</td>\n      <td>bloated</td>\n      <td>0.335</td>\n    </tr>\n    <tr>\n      <th>9</th>\n      <td>gzip</td>\n      <td>chisel</td>\n      <td>0.549</td>\n    </tr>\n    <tr>\n      <th>10</th>\n      <td>gzip</td>\n      <td>cov</td>\n      <td>0.332</td>\n    </tr>\n    <tr>\n      <th>11</th>\n      <td>gzip</td>\n      <td>debop</td>\n      <td>0.332</td>\n    </tr>\n    <tr>\n      <th>12</th>\n      <td>mkdir</td>\n      <td>bloated</td>\n      <td>0.289</td>\n    </tr>\n    <tr>\n      <th>13</th>\n      <td>mkdir</td>\n      <td>chisel</td>\n      <td>0.288</td>\n    </tr>\n    <tr>\n      <th>14</th>\n      <td>mkdir</td>\n      <td>cov</td>\n      <td>0.288</td>\n    </tr>\n    <tr>\n      <th>15</th>\n      <td>mkdir</td>\n      <td>debop</td>\n      <td>0.288</td>\n    </tr>\n    <tr>\n      <th>16</th>\n      <td>printokens2</td>\n      <td>bloated</td>\n      <td>0.282</td>\n    </tr>\n    <tr>\n      <th>17</th>\n      <td>printokens2</td>\n      <td>chisel</td>\n      <td>0.281</td>\n    </tr>\n    <tr>\n      <th>18</th>\n      <td>printokens2</td>\n      <td>cov</td>\n      <td>0.285</td>\n    </tr>\n    <tr>\n      <th>19</th>\n      <td>printokens2</td>\n      <td>debop</td>\n      <td>0.282</td>\n    </tr>\n    <tr>\n      <th>20</th>\n      <td>sed</td>\n      <td>bloated</td>\n      <td>0.286</td>\n    </tr>\n    <tr>\n      <th>21</th>\n      <td>sed</td>\n      <td>chisel</td>\n      <td>0.289</td>\n    </tr>\n    <tr>\n      <th>22</th>\n      <td>sed</td>\n      <td>cov</td>\n      <td>0.290</td>\n    </tr>\n    <tr>\n      <th>23</th>\n      <td>sed</td>\n      <td>debop</td>\n      <td>0.287</td>\n    </tr>\n  </tbody>\n</table>\n</div>"
     },
     "execution_count": 9,
     "metadata": {},
     "output_type": "execute_result"
    }
   ],
   "source": [
    "# After we need to put together the PSYS and Size values for each program in each of the 3 different implementations\n",
    "# After we need to put together the PSYS and Size values for each program in each of the 3 different implementations\n",
    "\n",
    "# Example usage\n",
    "csv_with_ec = os.path.join(results_dir, 'averagePSYS_all_repeats.csv')\n",
    "\n",
    "# Read the first CSV file\n",
    "df = pd.read_csv(csv_with_ec, delimiter=';')\n",
    "df['PSYS']= df['PSYS'].div(1000000).round(3)\n",
    "\n",
    "df\n"
   ]
  },
  {
   "cell_type": "code",
   "execution_count": 12,
   "outputs": [
    {
     "data": {
      "text/plain": "       Program  PSYS_avg_bloated  PSYS_avg_chisel  PSYS_avg_cov  \\\n0         date         287914.25        284160.70     284352.85   \n1         grep         317086.10        457307.85     315260.85   \n2         gzip         334755.55        549107.40     331841.20   \n3        mkdir         289446.30        287996.70     287615.30   \n4  printokens2         282000.05        281304.40     285134.15   \n5          sed         285567.55        288768.75     290404.50   \n\n   PSYS_avg_debop  PSYS_std_bloated  PSYS_std_chisel  PSYS_std_cov  \\\n0       284331.55             0.014            0.010         0.009   \n1       315404.45             0.020            0.021         0.018   \n2       331715.95             0.013            0.022         0.016   \n3       287520.60             0.016            0.014         0.012   \n4       281771.20             0.009            0.012         0.021   \n5       287371.10             0.010            0.015         0.022   \n\n   PSYS_std_debop  \n0           0.010  \n1           0.018  \n2           0.008  \n3           0.011  \n4           0.013  \n5           0.014  ",
      "text/html": "<div>\n<style scoped>\n    .dataframe tbody tr th:only-of-type {\n        vertical-align: middle;\n    }\n\n    .dataframe tbody tr th {\n        vertical-align: top;\n    }\n\n    .dataframe thead th {\n        text-align: right;\n    }\n</style>\n<table border=\"1\" class=\"dataframe\">\n  <thead>\n    <tr style=\"text-align: right;\">\n      <th></th>\n      <th>Program</th>\n      <th>PSYS_avg_bloated</th>\n      <th>PSYS_avg_chisel</th>\n      <th>PSYS_avg_cov</th>\n      <th>PSYS_avg_debop</th>\n      <th>PSYS_std_bloated</th>\n      <th>PSYS_std_chisel</th>\n      <th>PSYS_std_cov</th>\n      <th>PSYS_std_debop</th>\n    </tr>\n  </thead>\n  <tbody>\n    <tr>\n      <th>0</th>\n      <td>date</td>\n      <td>287914.25</td>\n      <td>284160.70</td>\n      <td>284352.85</td>\n      <td>284331.55</td>\n      <td>0.014</td>\n      <td>0.010</td>\n      <td>0.009</td>\n      <td>0.010</td>\n    </tr>\n    <tr>\n      <th>1</th>\n      <td>grep</td>\n      <td>317086.10</td>\n      <td>457307.85</td>\n      <td>315260.85</td>\n      <td>315404.45</td>\n      <td>0.020</td>\n      <td>0.021</td>\n      <td>0.018</td>\n      <td>0.018</td>\n    </tr>\n    <tr>\n      <th>2</th>\n      <td>gzip</td>\n      <td>334755.55</td>\n      <td>549107.40</td>\n      <td>331841.20</td>\n      <td>331715.95</td>\n      <td>0.013</td>\n      <td>0.022</td>\n      <td>0.016</td>\n      <td>0.008</td>\n    </tr>\n    <tr>\n      <th>3</th>\n      <td>mkdir</td>\n      <td>289446.30</td>\n      <td>287996.70</td>\n      <td>287615.30</td>\n      <td>287520.60</td>\n      <td>0.016</td>\n      <td>0.014</td>\n      <td>0.012</td>\n      <td>0.011</td>\n    </tr>\n    <tr>\n      <th>4</th>\n      <td>printokens2</td>\n      <td>282000.05</td>\n      <td>281304.40</td>\n      <td>285134.15</td>\n      <td>281771.20</td>\n      <td>0.009</td>\n      <td>0.012</td>\n      <td>0.021</td>\n      <td>0.013</td>\n    </tr>\n    <tr>\n      <th>5</th>\n      <td>sed</td>\n      <td>285567.55</td>\n      <td>288768.75</td>\n      <td>290404.50</td>\n      <td>287371.10</td>\n      <td>0.010</td>\n      <td>0.015</td>\n      <td>0.022</td>\n      <td>0.014</td>\n    </tr>\n  </tbody>\n</table>\n</div>"
     },
     "execution_count": 12,
     "metadata": {},
     "output_type": "execute_result"
    }
   ],
   "source": [
    "\n",
    "# Read the first CSV file\n",
    "df = pd.read_csv(\"/home/qperez/PycharmProjects/bloat-energy-consumption/notebooks/debloating_results/averagePSYS_with_std_all_repeats_pivot.csv\", delimiter=';')\n",
    "\n",
    "# Extract column names with \"std\" in their headers\n",
    "std_columns = [col for col in df.columns if 'std' in col]\n",
    "\n",
    "# Divide each column by 1,000,000\n",
    "df.loc[:, std_columns] = df.loc[:, std_columns] / 1000000\n",
    "df.loc[:, std_columns] = df.loc[:, std_columns].round(3)\n",
    "\n",
    "df"
   ],
   "metadata": {
    "collapsed": false,
    "ExecuteTime": {
     "end_time": "2023-08-01T15:31:08.127362102Z",
     "start_time": "2023-08-01T15:31:08.079817355Z"
    }
   }
  },
  {
   "cell_type": "code",
   "execution_count": 10,
   "metadata": {
    "ExecuteTime": {
     "end_time": "2023-08-01T15:21:18.324937503Z",
     "start_time": "2023-08-01T15:21:18.284320936Z"
    }
   },
   "outputs": [
    {
     "data": {
      "text/plain": "               PSYS                     \nUtilities   bloated chisel    cov  debop\nProgram                                 \ndate          0.288  0.284  0.284  0.284\ngrep          0.317  0.457  0.315  0.315\ngzip          0.335  0.549  0.332  0.332\nmkdir         0.289  0.288  0.288  0.288\nprintokens2   0.282  0.281  0.285  0.282\nsed           0.286  0.289  0.290  0.287",
      "text/html": "<div>\n<style scoped>\n    .dataframe tbody tr th:only-of-type {\n        vertical-align: middle;\n    }\n\n    .dataframe tbody tr th {\n        vertical-align: top;\n    }\n\n    .dataframe thead tr th {\n        text-align: left;\n    }\n\n    .dataframe thead tr:last-of-type th {\n        text-align: right;\n    }\n</style>\n<table border=\"1\" class=\"dataframe\">\n  <thead>\n    <tr>\n      <th></th>\n      <th colspan=\"4\" halign=\"left\">PSYS</th>\n    </tr>\n    <tr>\n      <th>Utilities</th>\n      <th>bloated</th>\n      <th>chisel</th>\n      <th>cov</th>\n      <th>debop</th>\n    </tr>\n    <tr>\n      <th>Program</th>\n      <th></th>\n      <th></th>\n      <th></th>\n      <th></th>\n    </tr>\n  </thead>\n  <tbody>\n    <tr>\n      <th>date</th>\n      <td>0.288</td>\n      <td>0.284</td>\n      <td>0.284</td>\n      <td>0.284</td>\n    </tr>\n    <tr>\n      <th>grep</th>\n      <td>0.317</td>\n      <td>0.457</td>\n      <td>0.315</td>\n      <td>0.315</td>\n    </tr>\n    <tr>\n      <th>gzip</th>\n      <td>0.335</td>\n      <td>0.549</td>\n      <td>0.332</td>\n      <td>0.332</td>\n    </tr>\n    <tr>\n      <th>mkdir</th>\n      <td>0.289</td>\n      <td>0.288</td>\n      <td>0.288</td>\n      <td>0.288</td>\n    </tr>\n    <tr>\n      <th>printokens2</th>\n      <td>0.282</td>\n      <td>0.281</td>\n      <td>0.285</td>\n      <td>0.282</td>\n    </tr>\n    <tr>\n      <th>sed</th>\n      <td>0.286</td>\n      <td>0.289</td>\n      <td>0.290</td>\n      <td>0.287</td>\n    </tr>\n  </tbody>\n</table>\n</div>"
     },
     "execution_count": 10,
     "metadata": {},
     "output_type": "execute_result"
    }
   ],
   "source": [
    "df_pivot = df.pivot(index='Program', columns='Utilities')\n",
    "df_pivot\n"
   ]
  },
  {
   "cell_type": "code",
   "execution_count": 5,
   "metadata": {
    "ExecuteTime": {
     "end_time": "2023-08-01T12:57:04.066055212Z",
     "start_time": "2023-08-01T12:57:04.023672098Z"
    }
   },
   "outputs": [
    {
     "data": {
      "text/plain": "             Chisel  Debop   Cov\nProgram                         \ndate          -1.30  -1.24 -1.24\ngrep          44.22  -0.53 -0.58\ngzip          64.03  -0.91 -0.87\nmkdir         -0.50  -0.67 -0.63\nprintokens2   -0.25  -0.08  1.11\nsed            1.12   0.63  1.69",
      "text/html": "<div>\n<style scoped>\n    .dataframe tbody tr th:only-of-type {\n        vertical-align: middle;\n    }\n\n    .dataframe tbody tr th {\n        vertical-align: top;\n    }\n\n    .dataframe thead th {\n        text-align: right;\n    }\n</style>\n<table border=\"1\" class=\"dataframe\">\n  <thead>\n    <tr style=\"text-align: right;\">\n      <th></th>\n      <th>Chisel</th>\n      <th>Debop</th>\n      <th>Cov</th>\n    </tr>\n    <tr>\n      <th>Program</th>\n      <th></th>\n      <th></th>\n      <th></th>\n    </tr>\n  </thead>\n  <tbody>\n    <tr>\n      <th>date</th>\n      <td>-1.30</td>\n      <td>-1.24</td>\n      <td>-1.24</td>\n    </tr>\n    <tr>\n      <th>grep</th>\n      <td>44.22</td>\n      <td>-0.53</td>\n      <td>-0.58</td>\n    </tr>\n    <tr>\n      <th>gzip</th>\n      <td>64.03</td>\n      <td>-0.91</td>\n      <td>-0.87</td>\n    </tr>\n    <tr>\n      <th>mkdir</th>\n      <td>-0.50</td>\n      <td>-0.67</td>\n      <td>-0.63</td>\n    </tr>\n    <tr>\n      <th>printokens2</th>\n      <td>-0.25</td>\n      <td>-0.08</td>\n      <td>1.11</td>\n    </tr>\n    <tr>\n      <th>sed</th>\n      <td>1.12</td>\n      <td>0.63</td>\n      <td>1.69</td>\n    </tr>\n  </tbody>\n</table>\n</div>"
     },
     "execution_count": 5,
     "metadata": {},
     "output_type": "execute_result"
    }
   ],
   "source": [
    "df_pivot['Difference_chisel'] = ((df_pivot['PSYS']['chisel'] - df_pivot['PSYS']['bloated']) / df_pivot['PSYS']['bloated']) * 100\n",
    "df_pivot['Difference_cov'] = ((df_pivot['PSYS']['cov'] - df_pivot['PSYS']['bloated']) / df_pivot['PSYS']['bloated']) * 100\n",
    "df_pivot['Difference_debop'] = ((df_pivot['PSYS']['debop'] - df_pivot['PSYS']['bloated']) / df_pivot['PSYS']['bloated']) * 100\n",
    "\n",
    "new_df = pd.DataFrame({\n",
    "                       'Chisel': df_pivot['Difference_chisel'].round(2),\n",
    "                        'Debop': df_pivot['Difference_debop'].round(2),\n",
    "                       'Cov': df_pivot['Difference_cov'].round(2)})\n",
    "\n",
    "\n",
    "#output_data = os.path.join(results_dir, 'in_percentage_diffs.csv')\n",
    "#new_df.to_csv(output_data, index=False)\n",
    "new_df\n"
   ]
  },
  {
   "cell_type": "code",
   "execution_count": null,
   "metadata": {},
   "outputs": [],
   "source": []
  }
 ],
 "metadata": {
  "kernelspec": {
   "display_name": "venv",
   "language": "python",
   "name": "python3"
  },
  "language_info": {
   "codemirror_mode": {
    "name": "ipython",
    "version": 3
   },
   "file_extension": ".py",
   "mimetype": "text/x-python",
   "name": "python",
   "nbconvert_exporter": "python",
   "pygments_lexer": "ipython3",
   "version": "3.10.8"
  },
  "orig_nbformat": 4
 },
 "nbformat": 4,
 "nbformat_minor": 2
}
