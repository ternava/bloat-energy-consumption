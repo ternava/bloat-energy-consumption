{
 "cells": [
  {
   "cell_type": "code",
   "execution_count": 4,
   "metadata": {
    "ExecuteTime": {
     "end_time": "2023-08-01T12:54:25.463624258Z",
     "start_time": "2023-08-01T12:54:25.445431468Z"
    }
   },
   "outputs": [],
   "source": [
    "import os\n",
    "import pandas as pd\n",
    "import csv\n"
   ]
  },
  {
   "cell_type": "code",
   "execution_count": 5,
   "metadata": {
    "ExecuteTime": {
     "end_time": "2023-08-01T12:54:24.609543009Z",
     "start_time": "2023-08-01T12:54:24.608909213Z"
    }
   },
   "outputs": [
    {
     "name": "stdout",
     "output_type": "stream",
     "text": [
      "/home/rlefeuvr/Documents/Workspace/Debloat/bloat-energy-consumption /home/rlefeuvr/Documents/Workspace/Debloat/bloat-energy-consumption/notebooks /home/rlefeuvr/Documents/Workspace/Debloat/bloat-energy-consumption/notebooks/debloating_results /home/rlefeuvr/Documents/Workspace/Debloat/bloat-energy-consumption/notebooks/data/debloating /home/rlefeuvr/Documents/Workspace/Debloat/bloat-energy-consumption/inputs\n"
     ]
    }
   ],
   "source": [
    "# Get the directory with the notebooks, including its subdirectories\n",
    "current_dir = os.getcwd()\n",
    "\n",
    "# Get the directories with data and results\n",
    "data_dir = os.path.join(current_dir, \"data/debloating\")\n",
    "temporary_dir= os.path.join(current_dir, \"debloating_temporary_data\")\n",
    "results_dir = os.path.join(current_dir, \"debloating_results\")\n",
    "\n",
    "project_dir = os.path.dirname(current_dir)\n",
    "\n",
    "inputs_dir = os.path.join(project_dir, \"inputs\")\n",
    "\n",
    "print(project_dir, current_dir, results_dir, data_dir, inputs_dir)"
   ]
  },
  {
   "cell_type": "code",
   "execution_count": 11,
   "metadata": {
    "ExecuteTime": {
     "end_time": "2023-08-01T15:21:15.430018053Z",
     "start_time": "2023-08-01T15:21:15.382489796Z"
    }
   },
   "outputs": [
    {
     "data": {
      "application/vnd.microsoft.datawrangler.viewer.v0+json": {
       "columns": [
        {
         "name": "index",
         "rawType": "int64",
         "type": "integer"
        },
        {
         "name": "Program",
         "rawType": "object",
         "type": "string"
        },
        {
         "name": "Utilities",
         "rawType": "object",
         "type": "string"
        },
        {
         "name": "PSYS",
         "rawType": "float64",
         "type": "float"
        }
       ],
       "conversionMethod": "pd.DataFrame",
       "ref": "1d332f86-1fbe-43c1-98a4-a7f9a25ddc17",
       "rows": [
        [
         "0",
         "date",
         "bloated",
         "0.288"
        ],
        [
         "1",
         "date",
         "chisel",
         "0.284"
        ],
        [
         "2",
         "date",
         "cov",
         "0.284"
        ],
        [
         "3",
         "date",
         "debop",
         "0.284"
        ],
        [
         "4",
         "grep",
         "bloated",
         "0.317"
        ],
        [
         "5",
         "grep",
         "chisel",
         "0.457"
        ],
        [
         "6",
         "grep",
         "cov",
         "0.315"
        ],
        [
         "7",
         "grep",
         "debop",
         "0.315"
        ],
        [
         "8",
         "gzip",
         "bloated",
         "0.335"
        ],
        [
         "9",
         "gzip",
         "chisel",
         "0.549"
        ],
        [
         "10",
         "gzip",
         "cov",
         "0.332"
        ],
        [
         "11",
         "gzip",
         "debop",
         "0.332"
        ],
        [
         "12",
         "mkdir",
         "bloated",
         "0.289"
        ],
        [
         "13",
         "mkdir",
         "chisel",
         "0.288"
        ],
        [
         "14",
         "mkdir",
         "cov",
         "0.288"
        ],
        [
         "15",
         "mkdir",
         "debop",
         "0.288"
        ],
        [
         "16",
         "printokens2",
         "bloated",
         "0.282"
        ],
        [
         "17",
         "printokens2",
         "chisel",
         "0.281"
        ],
        [
         "18",
         "printokens2",
         "cov",
         "0.285"
        ],
        [
         "19",
         "printokens2",
         "debop",
         "0.282"
        ],
        [
         "20",
         "sed",
         "bloated",
         "0.286"
        ],
        [
         "21",
         "sed",
         "chisel",
         "0.289"
        ],
        [
         "22",
         "sed",
         "cov",
         "0.29"
        ],
        [
         "23",
         "sed",
         "debop",
         "0.287"
        ]
       ],
       "shape": {
        "columns": 3,
        "rows": 24
       }
      },
      "text/html": [
       "<div>\n",
       "<style scoped>\n",
       "    .dataframe tbody tr th:only-of-type {\n",
       "        vertical-align: middle;\n",
       "    }\n",
       "\n",
       "    .dataframe tbody tr th {\n",
       "        vertical-align: top;\n",
       "    }\n",
       "\n",
       "    .dataframe thead th {\n",
       "        text-align: right;\n",
       "    }\n",
       "</style>\n",
       "<table border=\"1\" class=\"dataframe\">\n",
       "  <thead>\n",
       "    <tr style=\"text-align: right;\">\n",
       "      <th></th>\n",
       "      <th>Program</th>\n",
       "      <th>Utilities</th>\n",
       "      <th>PSYS</th>\n",
       "    </tr>\n",
       "  </thead>\n",
       "  <tbody>\n",
       "    <tr>\n",
       "      <th>0</th>\n",
       "      <td>date</td>\n",
       "      <td>bloated</td>\n",
       "      <td>0.288</td>\n",
       "    </tr>\n",
       "    <tr>\n",
       "      <th>1</th>\n",
       "      <td>date</td>\n",
       "      <td>chisel</td>\n",
       "      <td>0.284</td>\n",
       "    </tr>\n",
       "    <tr>\n",
       "      <th>2</th>\n",
       "      <td>date</td>\n",
       "      <td>cov</td>\n",
       "      <td>0.284</td>\n",
       "    </tr>\n",
       "    <tr>\n",
       "      <th>3</th>\n",
       "      <td>date</td>\n",
       "      <td>debop</td>\n",
       "      <td>0.284</td>\n",
       "    </tr>\n",
       "    <tr>\n",
       "      <th>4</th>\n",
       "      <td>grep</td>\n",
       "      <td>bloated</td>\n",
       "      <td>0.317</td>\n",
       "    </tr>\n",
       "    <tr>\n",
       "      <th>5</th>\n",
       "      <td>grep</td>\n",
       "      <td>chisel</td>\n",
       "      <td>0.457</td>\n",
       "    </tr>\n",
       "    <tr>\n",
       "      <th>6</th>\n",
       "      <td>grep</td>\n",
       "      <td>cov</td>\n",
       "      <td>0.315</td>\n",
       "    </tr>\n",
       "    <tr>\n",
       "      <th>7</th>\n",
       "      <td>grep</td>\n",
       "      <td>debop</td>\n",
       "      <td>0.315</td>\n",
       "    </tr>\n",
       "    <tr>\n",
       "      <th>8</th>\n",
       "      <td>gzip</td>\n",
       "      <td>bloated</td>\n",
       "      <td>0.335</td>\n",
       "    </tr>\n",
       "    <tr>\n",
       "      <th>9</th>\n",
       "      <td>gzip</td>\n",
       "      <td>chisel</td>\n",
       "      <td>0.549</td>\n",
       "    </tr>\n",
       "    <tr>\n",
       "      <th>10</th>\n",
       "      <td>gzip</td>\n",
       "      <td>cov</td>\n",
       "      <td>0.332</td>\n",
       "    </tr>\n",
       "    <tr>\n",
       "      <th>11</th>\n",
       "      <td>gzip</td>\n",
       "      <td>debop</td>\n",
       "      <td>0.332</td>\n",
       "    </tr>\n",
       "    <tr>\n",
       "      <th>12</th>\n",
       "      <td>mkdir</td>\n",
       "      <td>bloated</td>\n",
       "      <td>0.289</td>\n",
       "    </tr>\n",
       "    <tr>\n",
       "      <th>13</th>\n",
       "      <td>mkdir</td>\n",
       "      <td>chisel</td>\n",
       "      <td>0.288</td>\n",
       "    </tr>\n",
       "    <tr>\n",
       "      <th>14</th>\n",
       "      <td>mkdir</td>\n",
       "      <td>cov</td>\n",
       "      <td>0.288</td>\n",
       "    </tr>\n",
       "    <tr>\n",
       "      <th>15</th>\n",
       "      <td>mkdir</td>\n",
       "      <td>debop</td>\n",
       "      <td>0.288</td>\n",
       "    </tr>\n",
       "    <tr>\n",
       "      <th>16</th>\n",
       "      <td>printokens2</td>\n",
       "      <td>bloated</td>\n",
       "      <td>0.282</td>\n",
       "    </tr>\n",
       "    <tr>\n",
       "      <th>17</th>\n",
       "      <td>printokens2</td>\n",
       "      <td>chisel</td>\n",
       "      <td>0.281</td>\n",
       "    </tr>\n",
       "    <tr>\n",
       "      <th>18</th>\n",
       "      <td>printokens2</td>\n",
       "      <td>cov</td>\n",
       "      <td>0.285</td>\n",
       "    </tr>\n",
       "    <tr>\n",
       "      <th>19</th>\n",
       "      <td>printokens2</td>\n",
       "      <td>debop</td>\n",
       "      <td>0.282</td>\n",
       "    </tr>\n",
       "    <tr>\n",
       "      <th>20</th>\n",
       "      <td>sed</td>\n",
       "      <td>bloated</td>\n",
       "      <td>0.286</td>\n",
       "    </tr>\n",
       "    <tr>\n",
       "      <th>21</th>\n",
       "      <td>sed</td>\n",
       "      <td>chisel</td>\n",
       "      <td>0.289</td>\n",
       "    </tr>\n",
       "    <tr>\n",
       "      <th>22</th>\n",
       "      <td>sed</td>\n",
       "      <td>cov</td>\n",
       "      <td>0.290</td>\n",
       "    </tr>\n",
       "    <tr>\n",
       "      <th>23</th>\n",
       "      <td>sed</td>\n",
       "      <td>debop</td>\n",
       "      <td>0.287</td>\n",
       "    </tr>\n",
       "  </tbody>\n",
       "</table>\n",
       "</div>"
      ],
      "text/plain": [
       "        Program Utilities   PSYS\n",
       "0          date   bloated  0.288\n",
       "1          date    chisel  0.284\n",
       "2          date       cov  0.284\n",
       "3          date     debop  0.284\n",
       "4          grep   bloated  0.317\n",
       "5          grep    chisel  0.457\n",
       "6          grep       cov  0.315\n",
       "7          grep     debop  0.315\n",
       "8          gzip   bloated  0.335\n",
       "9          gzip    chisel  0.549\n",
       "10         gzip       cov  0.332\n",
       "11         gzip     debop  0.332\n",
       "12        mkdir   bloated  0.289\n",
       "13        mkdir    chisel  0.288\n",
       "14        mkdir       cov  0.288\n",
       "15        mkdir     debop  0.288\n",
       "16  printokens2   bloated  0.282\n",
       "17  printokens2    chisel  0.281\n",
       "18  printokens2       cov  0.285\n",
       "19  printokens2     debop  0.282\n",
       "20          sed   bloated  0.286\n",
       "21          sed    chisel  0.289\n",
       "22          sed       cov  0.290\n",
       "23          sed     debop  0.287"
      ]
     },
     "execution_count": 11,
     "metadata": {},
     "output_type": "execute_result"
    }
   ],
   "source": [
    "# After we need to put together the PSYS and Size values for each program in each of the 3 different implementations\n",
    "\n",
    "# Example usage\n",
    "csv_with_ec = os.path.join(results_dir, 'averagePSYS_all_repeats.csv')\n",
    "\n",
    "# Read the first CSV file\n",
    "df = pd.read_csv(csv_with_ec, delimiter=';')\n",
    "df['PSYS']= df['PSYS'].div(1000000).round(3)\n",
    "\n",
    "df"
   ]
  },
  {
   "cell_type": "code",
   "execution_count": 13,
   "metadata": {},
   "outputs": [
    {
     "data": {
      "application/vnd.microsoft.datawrangler.viewer.v0+json": {
       "columns": [
        {
         "name": "Program",
         "rawType": "object",
         "type": "string"
        },
        {
         "name": "('PSYS', 'bloated')",
         "rawType": "float64",
         "type": "float"
        },
        {
         "name": "('PSYS', 'chisel')",
         "rawType": "float64",
         "type": "float"
        },
        {
         "name": "('PSYS', 'cov')",
         "rawType": "float64",
         "type": "float"
        },
        {
         "name": "('PSYS', 'debop')",
         "rawType": "float64",
         "type": "float"
        }
       ],
       "conversionMethod": "pd.DataFrame",
       "ref": "7bc6f5fb-a512-4699-a7f0-4c8f8fd63f1e",
       "rows": [
        [
         "date",
         "0.288",
         "0.284",
         "0.284",
         "0.284"
        ],
        [
         "grep",
         "0.317",
         "0.457",
         "0.315",
         "0.315"
        ],
        [
         "gzip",
         "0.335",
         "0.549",
         "0.332",
         "0.332"
        ],
        [
         "mkdir",
         "0.289",
         "0.288",
         "0.288",
         "0.288"
        ],
        [
         "printokens2",
         "0.282",
         "0.281",
         "0.285",
         "0.282"
        ],
        [
         "sed",
         "0.286",
         "0.289",
         "0.29",
         "0.287"
        ]
       ],
       "shape": {
        "columns": 4,
        "rows": 6
       }
      },
      "text/html": [
       "<div>\n",
       "<style scoped>\n",
       "    .dataframe tbody tr th:only-of-type {\n",
       "        vertical-align: middle;\n",
       "    }\n",
       "\n",
       "    .dataframe tbody tr th {\n",
       "        vertical-align: top;\n",
       "    }\n",
       "\n",
       "    .dataframe thead tr th {\n",
       "        text-align: left;\n",
       "    }\n",
       "\n",
       "    .dataframe thead tr:last-of-type th {\n",
       "        text-align: right;\n",
       "    }\n",
       "</style>\n",
       "<table border=\"1\" class=\"dataframe\">\n",
       "  <thead>\n",
       "    <tr>\n",
       "      <th></th>\n",
       "      <th colspan=\"4\" halign=\"left\">PSYS</th>\n",
       "    </tr>\n",
       "    <tr>\n",
       "      <th>Utilities</th>\n",
       "      <th>bloated</th>\n",
       "      <th>chisel</th>\n",
       "      <th>cov</th>\n",
       "      <th>debop</th>\n",
       "    </tr>\n",
       "    <tr>\n",
       "      <th>Program</th>\n",
       "      <th></th>\n",
       "      <th></th>\n",
       "      <th></th>\n",
       "      <th></th>\n",
       "    </tr>\n",
       "  </thead>\n",
       "  <tbody>\n",
       "    <tr>\n",
       "      <th>date</th>\n",
       "      <td>0.288</td>\n",
       "      <td>0.284</td>\n",
       "      <td>0.284</td>\n",
       "      <td>0.284</td>\n",
       "    </tr>\n",
       "    <tr>\n",
       "      <th>grep</th>\n",
       "      <td>0.317</td>\n",
       "      <td>0.457</td>\n",
       "      <td>0.315</td>\n",
       "      <td>0.315</td>\n",
       "    </tr>\n",
       "    <tr>\n",
       "      <th>gzip</th>\n",
       "      <td>0.335</td>\n",
       "      <td>0.549</td>\n",
       "      <td>0.332</td>\n",
       "      <td>0.332</td>\n",
       "    </tr>\n",
       "    <tr>\n",
       "      <th>mkdir</th>\n",
       "      <td>0.289</td>\n",
       "      <td>0.288</td>\n",
       "      <td>0.288</td>\n",
       "      <td>0.288</td>\n",
       "    </tr>\n",
       "    <tr>\n",
       "      <th>printokens2</th>\n",
       "      <td>0.282</td>\n",
       "      <td>0.281</td>\n",
       "      <td>0.285</td>\n",
       "      <td>0.282</td>\n",
       "    </tr>\n",
       "    <tr>\n",
       "      <th>sed</th>\n",
       "      <td>0.286</td>\n",
       "      <td>0.289</td>\n",
       "      <td>0.290</td>\n",
       "      <td>0.287</td>\n",
       "    </tr>\n",
       "  </tbody>\n",
       "</table>\n",
       "</div>"
      ],
      "text/plain": [
       "               PSYS                     \n",
       "Utilities   bloated chisel    cov  debop\n",
       "Program                                 \n",
       "date          0.288  0.284  0.284  0.284\n",
       "grep          0.317  0.457  0.315  0.315\n",
       "gzip          0.335  0.549  0.332  0.332\n",
       "mkdir         0.289  0.288  0.288  0.288\n",
       "printokens2   0.282  0.281  0.285  0.282\n",
       "sed           0.286  0.289  0.290  0.287"
      ]
     },
     "execution_count": 13,
     "metadata": {},
     "output_type": "execute_result"
    }
   ],
   "source": [
    "df_pivot = df.pivot(index='Program', columns='Utilities')\n",
    "df_pivot"
   ]
  },
  {
   "cell_type": "code",
   "execution_count": 14,
   "metadata": {
    "ExecuteTime": {
     "end_time": "2023-08-01T15:31:08.127362102Z",
     "start_time": "2023-08-01T15:31:08.079817355Z"
    },
    "collapsed": false
   },
   "outputs": [
    {
     "data": {
      "application/vnd.microsoft.datawrangler.viewer.v0+json": {
       "columns": [
        {
         "name": "index",
         "rawType": "int64",
         "type": "integer"
        },
        {
         "name": "Program",
         "rawType": "object",
         "type": "string"
        },
        {
         "name": "PSYS_avg_bloated",
         "rawType": "float64",
         "type": "float"
        },
        {
         "name": "PSYS_avg_chisel",
         "rawType": "float64",
         "type": "float"
        },
        {
         "name": "PSYS_avg_cov",
         "rawType": "float64",
         "type": "float"
        },
        {
         "name": "PSYS_avg_debop",
         "rawType": "float64",
         "type": "float"
        },
        {
         "name": "PSYS_std_bloated",
         "rawType": "float64",
         "type": "float"
        },
        {
         "name": "PSYS_std_chisel",
         "rawType": "float64",
         "type": "float"
        },
        {
         "name": "PSYS_std_cov",
         "rawType": "float64",
         "type": "float"
        },
        {
         "name": "PSYS_std_debop",
         "rawType": "float64",
         "type": "float"
        }
       ],
       "conversionMethod": "pd.DataFrame",
       "ref": "86301fa2-e839-4c1e-b41f-88a5a73b80a4",
       "rows": [
        [
         "0",
         "date",
         "287914.25",
         "284160.7",
         "284352.85",
         "284331.55",
         "0.014",
         "0.01",
         "0.009",
         "0.01"
        ],
        [
         "1",
         "grep",
         "317086.1",
         "457307.85",
         "315260.85",
         "315404.45",
         "0.02",
         "0.021",
         "0.018",
         "0.018"
        ],
        [
         "2",
         "gzip",
         "334755.55",
         "549107.4",
         "331841.2",
         "331715.95",
         "0.013",
         "0.022",
         "0.016",
         "0.008"
        ],
        [
         "3",
         "mkdir",
         "289446.3",
         "287996.7",
         "287615.3",
         "287520.6",
         "0.016",
         "0.014",
         "0.012",
         "0.011"
        ],
        [
         "4",
         "printokens2",
         "282000.05",
         "281304.4",
         "285134.15",
         "281771.2",
         "0.009",
         "0.012",
         "0.021",
         "0.013"
        ],
        [
         "5",
         "sed",
         "285567.55",
         "288768.75",
         "290404.5",
         "287371.1",
         "0.01",
         "0.015",
         "0.022",
         "0.014"
        ]
       ],
       "shape": {
        "columns": 9,
        "rows": 6
       }
      },
      "text/html": [
       "<div>\n",
       "<style scoped>\n",
       "    .dataframe tbody tr th:only-of-type {\n",
       "        vertical-align: middle;\n",
       "    }\n",
       "\n",
       "    .dataframe tbody tr th {\n",
       "        vertical-align: top;\n",
       "    }\n",
       "\n",
       "    .dataframe thead th {\n",
       "        text-align: right;\n",
       "    }\n",
       "</style>\n",
       "<table border=\"1\" class=\"dataframe\">\n",
       "  <thead>\n",
       "    <tr style=\"text-align: right;\">\n",
       "      <th></th>\n",
       "      <th>Program</th>\n",
       "      <th>PSYS_avg_bloated</th>\n",
       "      <th>PSYS_avg_chisel</th>\n",
       "      <th>PSYS_avg_cov</th>\n",
       "      <th>PSYS_avg_debop</th>\n",
       "      <th>PSYS_std_bloated</th>\n",
       "      <th>PSYS_std_chisel</th>\n",
       "      <th>PSYS_std_cov</th>\n",
       "      <th>PSYS_std_debop</th>\n",
       "    </tr>\n",
       "  </thead>\n",
       "  <tbody>\n",
       "    <tr>\n",
       "      <th>0</th>\n",
       "      <td>date</td>\n",
       "      <td>287914.25</td>\n",
       "      <td>284160.70</td>\n",
       "      <td>284352.85</td>\n",
       "      <td>284331.55</td>\n",
       "      <td>0.014</td>\n",
       "      <td>0.010</td>\n",
       "      <td>0.009</td>\n",
       "      <td>0.010</td>\n",
       "    </tr>\n",
       "    <tr>\n",
       "      <th>1</th>\n",
       "      <td>grep</td>\n",
       "      <td>317086.10</td>\n",
       "      <td>457307.85</td>\n",
       "      <td>315260.85</td>\n",
       "      <td>315404.45</td>\n",
       "      <td>0.020</td>\n",
       "      <td>0.021</td>\n",
       "      <td>0.018</td>\n",
       "      <td>0.018</td>\n",
       "    </tr>\n",
       "    <tr>\n",
       "      <th>2</th>\n",
       "      <td>gzip</td>\n",
       "      <td>334755.55</td>\n",
       "      <td>549107.40</td>\n",
       "      <td>331841.20</td>\n",
       "      <td>331715.95</td>\n",
       "      <td>0.013</td>\n",
       "      <td>0.022</td>\n",
       "      <td>0.016</td>\n",
       "      <td>0.008</td>\n",
       "    </tr>\n",
       "    <tr>\n",
       "      <th>3</th>\n",
       "      <td>mkdir</td>\n",
       "      <td>289446.30</td>\n",
       "      <td>287996.70</td>\n",
       "      <td>287615.30</td>\n",
       "      <td>287520.60</td>\n",
       "      <td>0.016</td>\n",
       "      <td>0.014</td>\n",
       "      <td>0.012</td>\n",
       "      <td>0.011</td>\n",
       "    </tr>\n",
       "    <tr>\n",
       "      <th>4</th>\n",
       "      <td>printokens2</td>\n",
       "      <td>282000.05</td>\n",
       "      <td>281304.40</td>\n",
       "      <td>285134.15</td>\n",
       "      <td>281771.20</td>\n",
       "      <td>0.009</td>\n",
       "      <td>0.012</td>\n",
       "      <td>0.021</td>\n",
       "      <td>0.013</td>\n",
       "    </tr>\n",
       "    <tr>\n",
       "      <th>5</th>\n",
       "      <td>sed</td>\n",
       "      <td>285567.55</td>\n",
       "      <td>288768.75</td>\n",
       "      <td>290404.50</td>\n",
       "      <td>287371.10</td>\n",
       "      <td>0.010</td>\n",
       "      <td>0.015</td>\n",
       "      <td>0.022</td>\n",
       "      <td>0.014</td>\n",
       "    </tr>\n",
       "  </tbody>\n",
       "</table>\n",
       "</div>"
      ],
      "text/plain": [
       "       Program  PSYS_avg_bloated  PSYS_avg_chisel  PSYS_avg_cov  \\\n",
       "0         date         287914.25        284160.70     284352.85   \n",
       "1         grep         317086.10        457307.85     315260.85   \n",
       "2         gzip         334755.55        549107.40     331841.20   \n",
       "3        mkdir         289446.30        287996.70     287615.30   \n",
       "4  printokens2         282000.05        281304.40     285134.15   \n",
       "5          sed         285567.55        288768.75     290404.50   \n",
       "\n",
       "   PSYS_avg_debop  PSYS_std_bloated  PSYS_std_chisel  PSYS_std_cov  \\\n",
       "0       284331.55             0.014            0.010         0.009   \n",
       "1       315404.45             0.020            0.021         0.018   \n",
       "2       331715.95             0.013            0.022         0.016   \n",
       "3       287520.60             0.016            0.014         0.012   \n",
       "4       281771.20             0.009            0.012         0.021   \n",
       "5       287371.10             0.010            0.015         0.022   \n",
       "\n",
       "   PSYS_std_debop  \n",
       "0           0.010  \n",
       "1           0.018  \n",
       "2           0.008  \n",
       "3           0.011  \n",
       "4           0.013  \n",
       "5           0.014  "
      ]
     },
     "execution_count": 14,
     "metadata": {},
     "output_type": "execute_result"
    }
   ],
   "source": [
    "# Read the first CSV file\n",
    "df = pd.read_csv(\"debloating_results/averagePSYS_with_std_all_repeats_pivot.csv\", delimiter=';')\n",
    "\n",
    "# Extract column names with \"std\" in their headers\n",
    "std_columns = [col for col in df.columns if 'std' in col]\n",
    "\n",
    "# Divide each column by 1,000,000\n",
    "df.loc[:, std_columns] = df.loc[:, std_columns] / 1000000\n",
    "df.loc[:, std_columns] = df.loc[:, std_columns].round(3)\n",
    "\n",
    "df"
   ]
  },
  {
   "cell_type": "code",
   "execution_count": 15,
   "metadata": {
    "ExecuteTime": {
     "end_time": "2023-08-01T12:57:04.066055212Z",
     "start_time": "2023-08-01T12:57:04.023672098Z"
    }
   },
   "outputs": [
    {
     "data": {
      "application/vnd.microsoft.datawrangler.viewer.v0+json": {
       "columns": [
        {
         "name": "Program",
         "rawType": "object",
         "type": "string"
        },
        {
         "name": "Chisel",
         "rawType": "float64",
         "type": "float"
        },
        {
         "name": "Debop",
         "rawType": "float64",
         "type": "float"
        },
        {
         "name": "Cov",
         "rawType": "float64",
         "type": "float"
        }
       ],
       "conversionMethod": "pd.DataFrame",
       "ref": "009aba4f-2420-479e-98bd-523856f24638",
       "rows": [
        [
         "date",
         "-1.39",
         "-1.39",
         "-1.39"
        ],
        [
         "grep",
         "44.16",
         "-0.63",
         "-0.63"
        ],
        [
         "gzip",
         "63.88",
         "-0.9",
         "-0.9"
        ],
        [
         "mkdir",
         "-0.35",
         "-0.35",
         "-0.35"
        ],
        [
         "printokens2",
         "-0.35",
         "0.0",
         "1.06"
        ],
        [
         "sed",
         "1.05",
         "0.35",
         "1.4"
        ]
       ],
       "shape": {
        "columns": 3,
        "rows": 6
       }
      },
      "text/html": [
       "<div>\n",
       "<style scoped>\n",
       "    .dataframe tbody tr th:only-of-type {\n",
       "        vertical-align: middle;\n",
       "    }\n",
       "\n",
       "    .dataframe tbody tr th {\n",
       "        vertical-align: top;\n",
       "    }\n",
       "\n",
       "    .dataframe thead th {\n",
       "        text-align: right;\n",
       "    }\n",
       "</style>\n",
       "<table border=\"1\" class=\"dataframe\">\n",
       "  <thead>\n",
       "    <tr style=\"text-align: right;\">\n",
       "      <th></th>\n",
       "      <th>Chisel</th>\n",
       "      <th>Debop</th>\n",
       "      <th>Cov</th>\n",
       "    </tr>\n",
       "    <tr>\n",
       "      <th>Program</th>\n",
       "      <th></th>\n",
       "      <th></th>\n",
       "      <th></th>\n",
       "    </tr>\n",
       "  </thead>\n",
       "  <tbody>\n",
       "    <tr>\n",
       "      <th>date</th>\n",
       "      <td>-1.39</td>\n",
       "      <td>-1.39</td>\n",
       "      <td>-1.39</td>\n",
       "    </tr>\n",
       "    <tr>\n",
       "      <th>grep</th>\n",
       "      <td>44.16</td>\n",
       "      <td>-0.63</td>\n",
       "      <td>-0.63</td>\n",
       "    </tr>\n",
       "    <tr>\n",
       "      <th>gzip</th>\n",
       "      <td>63.88</td>\n",
       "      <td>-0.90</td>\n",
       "      <td>-0.90</td>\n",
       "    </tr>\n",
       "    <tr>\n",
       "      <th>mkdir</th>\n",
       "      <td>-0.35</td>\n",
       "      <td>-0.35</td>\n",
       "      <td>-0.35</td>\n",
       "    </tr>\n",
       "    <tr>\n",
       "      <th>printokens2</th>\n",
       "      <td>-0.35</td>\n",
       "      <td>0.00</td>\n",
       "      <td>1.06</td>\n",
       "    </tr>\n",
       "    <tr>\n",
       "      <th>sed</th>\n",
       "      <td>1.05</td>\n",
       "      <td>0.35</td>\n",
       "      <td>1.40</td>\n",
       "    </tr>\n",
       "  </tbody>\n",
       "</table>\n",
       "</div>"
      ],
      "text/plain": [
       "             Chisel  Debop   Cov\n",
       "Program                         \n",
       "date          -1.39  -1.39 -1.39\n",
       "grep          44.16  -0.63 -0.63\n",
       "gzip          63.88  -0.90 -0.90\n",
       "mkdir         -0.35  -0.35 -0.35\n",
       "printokens2   -0.35   0.00  1.06\n",
       "sed            1.05   0.35  1.40"
      ]
     },
     "execution_count": 15,
     "metadata": {},
     "output_type": "execute_result"
    }
   ],
   "source": [
    "df_pivot['Difference_chisel'] = ((df_pivot['PSYS']['chisel'] - df_pivot['PSYS']['bloated']) / df_pivot['PSYS']['bloated']) * 100\n",
    "df_pivot['Difference_cov'] = ((df_pivot['PSYS']['cov'] - df_pivot['PSYS']['bloated']) / df_pivot['PSYS']['bloated']) * 100\n",
    "df_pivot['Difference_debop'] = ((df_pivot['PSYS']['debop'] - df_pivot['PSYS']['bloated']) / df_pivot['PSYS']['bloated']) * 100\n",
    "\n",
    "new_df = pd.DataFrame({\n",
    "                       'Chisel': df_pivot['Difference_chisel'].round(2),\n",
    "                        'Debop': df_pivot['Difference_debop'].round(2),\n",
    "                       'Cov': df_pivot['Difference_cov'].round(2)})\n",
    "\n",
    "new_df\n"
   ]
  }
 ],
 "metadata": {
  "kernelspec": {
   "display_name": ".venv",
   "language": "python",
   "name": "python3"
  },
  "language_info": {
   "codemirror_mode": {
    "name": "ipython",
    "version": 3
   },
   "file_extension": ".py",
   "mimetype": "text/x-python",
   "name": "python",
   "nbconvert_exporter": "python",
   "pygments_lexer": "ipython3",
   "version": "3.12.4"
  },
  "orig_nbformat": 4
 },
 "nbformat": 4,
 "nbformat_minor": 2
}
