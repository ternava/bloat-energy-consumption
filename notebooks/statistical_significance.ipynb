{
 "cells": [
  {
   "cell_type": "code",
   "execution_count": 3,
   "metadata": {
    "ExecuteTime": {
     "end_time": "2023-08-01T16:20:03.872644533Z",
     "start_time": "2023-08-01T16:20:03.844743549Z"
    }
   },
   "outputs": [],
   "source": [
    "import os\n",
    "import pandas as pd\n",
    "import pandas as pd\n",
    "from scipy.stats import mannwhitneyu"
   ]
  },
  {
   "cell_type": "markdown",
   "metadata": {},
   "source": [
    "Statistical significance analysis\n",
    "=="
   ]
  },
  {
   "cell_type": "markdown",
   "metadata": {},
   "source": [
    "The objective of this script is to evaluate the significance of observed difference in term of energy consumption. "
   ]
  },
  {
   "cell_type": "markdown",
   "metadata": {},
   "source": [
    "### Scenario wise comparison"
   ]
  },
  {
   "cell_type": "markdown",
   "metadata": {},
   "source": [
    "Compare the distribution of each utility scenarios to a baseline (bloated or GNU depending the RQ). Each scenario is executed 10 times."
   ]
  },
  {
   "cell_type": "code",
   "execution_count": 4,
   "metadata": {},
   "outputs": [],
   "source": [
    "# Get the directory with the notebooks, including its subdirectories\n",
    "current_dir = os.getcwd()\n",
    "\n",
    "# Get the directories with data and results\n",
    "\n",
    "\n",
    "def computeMannWhitneyU(input_file_path, utilities, baseline):\n",
    "    # Charger le fichier CSV\n",
    "    df = pd.read_csv(input_file_path, delimiter=\";\", engine=\"python\")\n",
    "\n",
    "    # Initialiser la liste des résultats\n",
    "    results = []\n",
    "\n",
    "    # Liste des utilitaires à comparer avec \"bloated\"\n",
    "\n",
    "    # Grouper par (Program, TestNr)\n",
    "    grouped = df.groupby([\"Program\", \"TestNr\"])\n",
    "\n",
    "    for (program, test_nr), group in grouped:\n",
    "        # Extraire les valeurs PSYS pour \"bloated\"\n",
    "        psys_bloated = group[group[\"Utilities\"] == baseline][\"PSYS\"]\n",
    "\n",
    "        for utility in utilities:\n",
    "            # Extraire les valeurs PSYS pour l'utilitaire en cours\n",
    "            psys_other = group[group[\"Utilities\"] == utility][\"PSYS\"]\n",
    "\n",
    "            # Vérifier qu'on a bien des données pour comparer\n",
    "            if len(psys_bloated) > 0 and len(psys_other) > 0:\n",
    "                # Test de Mann-Whitney U\n",
    "                u_stat, p_value = mannwhitneyu(psys_other, psys_bloated, alternative=\"two-sided\")\n",
    "\n",
    "                # Stocker les résultats\n",
    "                results.append((program, test_nr, utility, u_stat, p_value))\n",
    "\n",
    "    # Convertir les résultats en DataFrame pour affichage\n",
    "    results_df = pd.DataFrame(results, columns=[\"Program\", \"TestNr\", \"Utility\", \"U_stat\", \"p_value\"])\n",
    "\n",
    "    # Afficher les résultats\n",
    "    return results_df\n",
    "\n",
    "def check_significance(results_df):\n",
    "    \"\"\"\n",
    "    Groups the results by (Utility, Program) and checks:\n",
    "    - If all p-values in the group are significant (p < 0.05).\n",
    "    - Whether the utility reduces or increases PSYS based on U-statistic.\n",
    "\n",
    "    Parameters:\n",
    "        results_df (pd.DataFrame): DataFrame with columns [\"Program\", \"TestNr\", \"Utility\", \"U_stat\", \"p_value\"]\n",
    "\n",
    "    Returns:\n",
    "        pd.DataFrame: DataFrame with columns [\"Program\", \"Utility\", \"All_Significant\", \"Effect\"]\n",
    "    \"\"\"\n",
    "    # Group by (Program, Utility) and check if all p-values are < 0.05\n",
    "    summary_df = (\n",
    "        results_df\n",
    "        .groupby([\"Program\", \"Utility\"])\n",
    "        .agg(\n",
    "            All_Significant=(\"p_value\", lambda p: (p < 0.05).all()),  # All tests significant?\n",
    "            Mean_U_stat=(\"U_stat\", \"mean\")  # Compute average U-statistic\n",
    "        )\n",
    "        .reset_index()\n",
    "    )\n",
    "\n",
    "    # Determine the effect using U-statistic\n",
    "    summary_df[\"Effect\"] = summary_df.apply(\n",
    "        lambda row: \"Lower\" if row[\"Mean_U_stat\"] < (10 * 10) / 2 else \"Higher\", axis=1\n",
    "    )\n",
    "\n",
    "    return summary_df\n",
    "\n",
    "\n"
   ]
  },
  {
   "cell_type": "markdown",
   "metadata": {},
   "source": [
    "#### RQ1 - Debloated vs. bloated"
   ]
  },
  {
   "cell_type": "markdown",
   "metadata": {},
   "source": [
    "**Research hypothesis:** debloating techniques , impact the energy consumption  \n",
    "\n",
    "**Null hypothesis:** Debloated utility [DEBOP/COV/CHISEL] have a different distribution in term of energy consumption compared to the bloated utility [BLOATED]  "
   ]
  },
  {
   "cell_type": "code",
   "execution_count": 5,
   "metadata": {},
   "outputs": [
    {
     "data": {
      "application/vnd.microsoft.datawrangler.viewer.v0+json": {
       "columns": [
        {
         "name": "index",
         "rawType": "int64",
         "type": "integer"
        },
        {
         "name": "Program",
         "rawType": "object",
         "type": "string"
        },
        {
         "name": "TestNr",
         "rawType": "int64",
         "type": "integer"
        },
        {
         "name": "Utility",
         "rawType": "object",
         "type": "string"
        },
        {
         "name": "U_stat",
         "rawType": "float64",
         "type": "float"
        },
        {
         "name": "p_value",
         "rawType": "float64",
         "type": "float"
        }
       ],
       "conversionMethod": "pd.DataFrame",
       "ref": "7d9d28f6-32bf-4a9b-8a9e-a3663afc1f90",
       "rows": [
        [
         "0",
         "date",
         "1",
         "chisel",
         "43.0",
         "0.6231762238821174"
        ],
        [
         "1",
         "date",
         "1",
         "debop",
         "40.0",
         "0.472509068324386"
        ],
        [
         "2",
         "date",
         "1",
         "cov",
         "39.0",
         "0.4273553138978077"
        ],
        [
         "3",
         "date",
         "2",
         "chisel",
         "53.0",
         "0.8501067391385259"
        ],
        [
         "4",
         "date",
         "2",
         "debop",
         "53.0",
         "0.8501067391385259"
        ],
        [
         "5",
         "date",
         "2",
         "cov",
         "57.0",
         "0.6231762238821174"
        ],
        [
         "6",
         "grep",
         "1",
         "chisel",
         "100.0",
         "0.00018165114609146497"
        ],
        [
         "7",
         "grep",
         "1",
         "debop",
         "44.0",
         "0.6775849579524755"
        ],
        [
         "8",
         "grep",
         "1",
         "cov",
         "43.0",
         "0.6231762238821174"
        ],
        [
         "9",
         "grep",
         "2",
         "chisel",
         "100.0",
         "0.00018267179110955002"
        ],
        [
         "10",
         "grep",
         "2",
         "debop",
         "45.0",
         "0.7337299956962472"
        ],
        [
         "11",
         "grep",
         "2",
         "cov",
         "37.0",
         "0.3447042220069576"
        ],
        [
         "12",
         "gzip",
         "1",
         "chisel",
         "100.0",
         "0.00018267179110955002"
        ],
        [
         "13",
         "gzip",
         "1",
         "debop",
         "47.0",
         "0.8500510248972775"
        ],
        [
         "14",
         "gzip",
         "1",
         "cov",
         "27.0",
         "0.08897301170181328"
        ],
        [
         "15",
         "gzip",
         "2",
         "chisel",
         "100.0",
         "0.00018267179110955002"
        ],
        [
         "16",
         "gzip",
         "2",
         "debop",
         "43.0",
         "0.6231762238821174"
        ],
        [
         "17",
         "gzip",
         "2",
         "cov",
         "46.0",
         "0.7913367801006604"
        ],
        [
         "18",
         "mkdir",
         "1",
         "chisel",
         "46.0",
         "0.7913367801006604"
        ],
        [
         "19",
         "mkdir",
         "1",
         "debop",
         "50.5",
         "1.0"
        ],
        [
         "20",
         "mkdir",
         "1",
         "cov",
         "62.0",
         "0.3844942826161789"
        ],
        [
         "21",
         "mkdir",
         "2",
         "chisel",
         "51.0",
         "0.9698499769931556"
        ],
        [
         "22",
         "mkdir",
         "2",
         "debop",
         "45.0",
         "0.7337299956962472"
        ],
        [
         "23",
         "mkdir",
         "2",
         "cov",
         "45.0",
         "0.7337299956962472"
        ],
        [
         "24",
         "printokens2",
         "1",
         "chisel",
         "44.0",
         "0.6775849579524755"
        ],
        [
         "25",
         "printokens2",
         "1",
         "debop",
         "35.0",
         "0.27303633975118835"
        ],
        [
         "26",
         "printokens2",
         "1",
         "cov",
         "36.0",
         "0.3074894566186813"
        ],
        [
         "27",
         "printokens2",
         "2",
         "chisel",
         "36.0",
         "0.30730753272470834"
        ],
        [
         "28",
         "printokens2",
         "2",
         "debop",
         "50.0",
         "1.0"
        ],
        [
         "29",
         "printokens2",
         "2",
         "cov",
         "57.0",
         "0.6231762238821174"
        ],
        [
         "30",
         "sed",
         "1",
         "chisel",
         "42.0",
         "0.5707503880581739"
        ],
        [
         "31",
         "sed",
         "1",
         "debop",
         "40.0",
         "0.47267559351158717"
        ],
        [
         "32",
         "sed",
         "1",
         "cov",
         "42.0",
         "0.5701699724963722"
        ],
        [
         "33",
         "sed",
         "2",
         "chisel",
         "53.5",
         "0.8205295061094116"
        ],
        [
         "34",
         "sed",
         "2",
         "debop",
         "57.0",
         "0.6231762238821174"
        ],
        [
         "35",
         "sed",
         "2",
         "cov",
         "52.0",
         "0.9097218891455553"
        ]
       ],
       "shape": {
        "columns": 5,
        "rows": 36
       }
      },
      "text/html": [
       "<div>\n",
       "<style scoped>\n",
       "    .dataframe tbody tr th:only-of-type {\n",
       "        vertical-align: middle;\n",
       "    }\n",
       "\n",
       "    .dataframe tbody tr th {\n",
       "        vertical-align: top;\n",
       "    }\n",
       "\n",
       "    .dataframe thead th {\n",
       "        text-align: right;\n",
       "    }\n",
       "</style>\n",
       "<table border=\"1\" class=\"dataframe\">\n",
       "  <thead>\n",
       "    <tr style=\"text-align: right;\">\n",
       "      <th></th>\n",
       "      <th>Program</th>\n",
       "      <th>TestNr</th>\n",
       "      <th>Utility</th>\n",
       "      <th>U_stat</th>\n",
       "      <th>p_value</th>\n",
       "    </tr>\n",
       "  </thead>\n",
       "  <tbody>\n",
       "    <tr>\n",
       "      <th>0</th>\n",
       "      <td>date</td>\n",
       "      <td>1</td>\n",
       "      <td>chisel</td>\n",
       "      <td>43.0</td>\n",
       "      <td>0.623176</td>\n",
       "    </tr>\n",
       "    <tr>\n",
       "      <th>1</th>\n",
       "      <td>date</td>\n",
       "      <td>1</td>\n",
       "      <td>debop</td>\n",
       "      <td>40.0</td>\n",
       "      <td>0.472509</td>\n",
       "    </tr>\n",
       "    <tr>\n",
       "      <th>2</th>\n",
       "      <td>date</td>\n",
       "      <td>1</td>\n",
       "      <td>cov</td>\n",
       "      <td>39.0</td>\n",
       "      <td>0.427355</td>\n",
       "    </tr>\n",
       "    <tr>\n",
       "      <th>3</th>\n",
       "      <td>date</td>\n",
       "      <td>2</td>\n",
       "      <td>chisel</td>\n",
       "      <td>53.0</td>\n",
       "      <td>0.850107</td>\n",
       "    </tr>\n",
       "    <tr>\n",
       "      <th>4</th>\n",
       "      <td>date</td>\n",
       "      <td>2</td>\n",
       "      <td>debop</td>\n",
       "      <td>53.0</td>\n",
       "      <td>0.850107</td>\n",
       "    </tr>\n",
       "    <tr>\n",
       "      <th>5</th>\n",
       "      <td>date</td>\n",
       "      <td>2</td>\n",
       "      <td>cov</td>\n",
       "      <td>57.0</td>\n",
       "      <td>0.623176</td>\n",
       "    </tr>\n",
       "    <tr>\n",
       "      <th>6</th>\n",
       "      <td>grep</td>\n",
       "      <td>1</td>\n",
       "      <td>chisel</td>\n",
       "      <td>100.0</td>\n",
       "      <td>0.000182</td>\n",
       "    </tr>\n",
       "    <tr>\n",
       "      <th>7</th>\n",
       "      <td>grep</td>\n",
       "      <td>1</td>\n",
       "      <td>debop</td>\n",
       "      <td>44.0</td>\n",
       "      <td>0.677585</td>\n",
       "    </tr>\n",
       "    <tr>\n",
       "      <th>8</th>\n",
       "      <td>grep</td>\n",
       "      <td>1</td>\n",
       "      <td>cov</td>\n",
       "      <td>43.0</td>\n",
       "      <td>0.623176</td>\n",
       "    </tr>\n",
       "    <tr>\n",
       "      <th>9</th>\n",
       "      <td>grep</td>\n",
       "      <td>2</td>\n",
       "      <td>chisel</td>\n",
       "      <td>100.0</td>\n",
       "      <td>0.000183</td>\n",
       "    </tr>\n",
       "    <tr>\n",
       "      <th>10</th>\n",
       "      <td>grep</td>\n",
       "      <td>2</td>\n",
       "      <td>debop</td>\n",
       "      <td>45.0</td>\n",
       "      <td>0.733730</td>\n",
       "    </tr>\n",
       "    <tr>\n",
       "      <th>11</th>\n",
       "      <td>grep</td>\n",
       "      <td>2</td>\n",
       "      <td>cov</td>\n",
       "      <td>37.0</td>\n",
       "      <td>0.344704</td>\n",
       "    </tr>\n",
       "    <tr>\n",
       "      <th>12</th>\n",
       "      <td>gzip</td>\n",
       "      <td>1</td>\n",
       "      <td>chisel</td>\n",
       "      <td>100.0</td>\n",
       "      <td>0.000183</td>\n",
       "    </tr>\n",
       "    <tr>\n",
       "      <th>13</th>\n",
       "      <td>gzip</td>\n",
       "      <td>1</td>\n",
       "      <td>debop</td>\n",
       "      <td>47.0</td>\n",
       "      <td>0.850051</td>\n",
       "    </tr>\n",
       "    <tr>\n",
       "      <th>14</th>\n",
       "      <td>gzip</td>\n",
       "      <td>1</td>\n",
       "      <td>cov</td>\n",
       "      <td>27.0</td>\n",
       "      <td>0.088973</td>\n",
       "    </tr>\n",
       "    <tr>\n",
       "      <th>15</th>\n",
       "      <td>gzip</td>\n",
       "      <td>2</td>\n",
       "      <td>chisel</td>\n",
       "      <td>100.0</td>\n",
       "      <td>0.000183</td>\n",
       "    </tr>\n",
       "    <tr>\n",
       "      <th>16</th>\n",
       "      <td>gzip</td>\n",
       "      <td>2</td>\n",
       "      <td>debop</td>\n",
       "      <td>43.0</td>\n",
       "      <td>0.623176</td>\n",
       "    </tr>\n",
       "    <tr>\n",
       "      <th>17</th>\n",
       "      <td>gzip</td>\n",
       "      <td>2</td>\n",
       "      <td>cov</td>\n",
       "      <td>46.0</td>\n",
       "      <td>0.791337</td>\n",
       "    </tr>\n",
       "    <tr>\n",
       "      <th>18</th>\n",
       "      <td>mkdir</td>\n",
       "      <td>1</td>\n",
       "      <td>chisel</td>\n",
       "      <td>46.0</td>\n",
       "      <td>0.791337</td>\n",
       "    </tr>\n",
       "    <tr>\n",
       "      <th>19</th>\n",
       "      <td>mkdir</td>\n",
       "      <td>1</td>\n",
       "      <td>debop</td>\n",
       "      <td>50.5</td>\n",
       "      <td>1.000000</td>\n",
       "    </tr>\n",
       "    <tr>\n",
       "      <th>20</th>\n",
       "      <td>mkdir</td>\n",
       "      <td>1</td>\n",
       "      <td>cov</td>\n",
       "      <td>62.0</td>\n",
       "      <td>0.384494</td>\n",
       "    </tr>\n",
       "    <tr>\n",
       "      <th>21</th>\n",
       "      <td>mkdir</td>\n",
       "      <td>2</td>\n",
       "      <td>chisel</td>\n",
       "      <td>51.0</td>\n",
       "      <td>0.969850</td>\n",
       "    </tr>\n",
       "    <tr>\n",
       "      <th>22</th>\n",
       "      <td>mkdir</td>\n",
       "      <td>2</td>\n",
       "      <td>debop</td>\n",
       "      <td>45.0</td>\n",
       "      <td>0.733730</td>\n",
       "    </tr>\n",
       "    <tr>\n",
       "      <th>23</th>\n",
       "      <td>mkdir</td>\n",
       "      <td>2</td>\n",
       "      <td>cov</td>\n",
       "      <td>45.0</td>\n",
       "      <td>0.733730</td>\n",
       "    </tr>\n",
       "    <tr>\n",
       "      <th>24</th>\n",
       "      <td>printokens2</td>\n",
       "      <td>1</td>\n",
       "      <td>chisel</td>\n",
       "      <td>44.0</td>\n",
       "      <td>0.677585</td>\n",
       "    </tr>\n",
       "    <tr>\n",
       "      <th>25</th>\n",
       "      <td>printokens2</td>\n",
       "      <td>1</td>\n",
       "      <td>debop</td>\n",
       "      <td>35.0</td>\n",
       "      <td>0.273036</td>\n",
       "    </tr>\n",
       "    <tr>\n",
       "      <th>26</th>\n",
       "      <td>printokens2</td>\n",
       "      <td>1</td>\n",
       "      <td>cov</td>\n",
       "      <td>36.0</td>\n",
       "      <td>0.307489</td>\n",
       "    </tr>\n",
       "    <tr>\n",
       "      <th>27</th>\n",
       "      <td>printokens2</td>\n",
       "      <td>2</td>\n",
       "      <td>chisel</td>\n",
       "      <td>36.0</td>\n",
       "      <td>0.307308</td>\n",
       "    </tr>\n",
       "    <tr>\n",
       "      <th>28</th>\n",
       "      <td>printokens2</td>\n",
       "      <td>2</td>\n",
       "      <td>debop</td>\n",
       "      <td>50.0</td>\n",
       "      <td>1.000000</td>\n",
       "    </tr>\n",
       "    <tr>\n",
       "      <th>29</th>\n",
       "      <td>printokens2</td>\n",
       "      <td>2</td>\n",
       "      <td>cov</td>\n",
       "      <td>57.0</td>\n",
       "      <td>0.623176</td>\n",
       "    </tr>\n",
       "    <tr>\n",
       "      <th>30</th>\n",
       "      <td>sed</td>\n",
       "      <td>1</td>\n",
       "      <td>chisel</td>\n",
       "      <td>42.0</td>\n",
       "      <td>0.570750</td>\n",
       "    </tr>\n",
       "    <tr>\n",
       "      <th>31</th>\n",
       "      <td>sed</td>\n",
       "      <td>1</td>\n",
       "      <td>debop</td>\n",
       "      <td>40.0</td>\n",
       "      <td>0.472676</td>\n",
       "    </tr>\n",
       "    <tr>\n",
       "      <th>32</th>\n",
       "      <td>sed</td>\n",
       "      <td>1</td>\n",
       "      <td>cov</td>\n",
       "      <td>42.0</td>\n",
       "      <td>0.570170</td>\n",
       "    </tr>\n",
       "    <tr>\n",
       "      <th>33</th>\n",
       "      <td>sed</td>\n",
       "      <td>2</td>\n",
       "      <td>chisel</td>\n",
       "      <td>53.5</td>\n",
       "      <td>0.820530</td>\n",
       "    </tr>\n",
       "    <tr>\n",
       "      <th>34</th>\n",
       "      <td>sed</td>\n",
       "      <td>2</td>\n",
       "      <td>debop</td>\n",
       "      <td>57.0</td>\n",
       "      <td>0.623176</td>\n",
       "    </tr>\n",
       "    <tr>\n",
       "      <th>35</th>\n",
       "      <td>sed</td>\n",
       "      <td>2</td>\n",
       "      <td>cov</td>\n",
       "      <td>52.0</td>\n",
       "      <td>0.909722</td>\n",
       "    </tr>\n",
       "  </tbody>\n",
       "</table>\n",
       "</div>"
      ],
      "text/plain": [
       "        Program  TestNr Utility  U_stat   p_value\n",
       "0          date       1  chisel    43.0  0.623176\n",
       "1          date       1   debop    40.0  0.472509\n",
       "2          date       1     cov    39.0  0.427355\n",
       "3          date       2  chisel    53.0  0.850107\n",
       "4          date       2   debop    53.0  0.850107\n",
       "5          date       2     cov    57.0  0.623176\n",
       "6          grep       1  chisel   100.0  0.000182\n",
       "7          grep       1   debop    44.0  0.677585\n",
       "8          grep       1     cov    43.0  0.623176\n",
       "9          grep       2  chisel   100.0  0.000183\n",
       "10         grep       2   debop    45.0  0.733730\n",
       "11         grep       2     cov    37.0  0.344704\n",
       "12         gzip       1  chisel   100.0  0.000183\n",
       "13         gzip       1   debop    47.0  0.850051\n",
       "14         gzip       1     cov    27.0  0.088973\n",
       "15         gzip       2  chisel   100.0  0.000183\n",
       "16         gzip       2   debop    43.0  0.623176\n",
       "17         gzip       2     cov    46.0  0.791337\n",
       "18        mkdir       1  chisel    46.0  0.791337\n",
       "19        mkdir       1   debop    50.5  1.000000\n",
       "20        mkdir       1     cov    62.0  0.384494\n",
       "21        mkdir       2  chisel    51.0  0.969850\n",
       "22        mkdir       2   debop    45.0  0.733730\n",
       "23        mkdir       2     cov    45.0  0.733730\n",
       "24  printokens2       1  chisel    44.0  0.677585\n",
       "25  printokens2       1   debop    35.0  0.273036\n",
       "26  printokens2       1     cov    36.0  0.307489\n",
       "27  printokens2       2  chisel    36.0  0.307308\n",
       "28  printokens2       2   debop    50.0  1.000000\n",
       "29  printokens2       2     cov    57.0  0.623176\n",
       "30          sed       1  chisel    42.0  0.570750\n",
       "31          sed       1   debop    40.0  0.472676\n",
       "32          sed       1     cov    42.0  0.570170\n",
       "33          sed       2  chisel    53.5  0.820530\n",
       "34          sed       2   debop    57.0  0.623176\n",
       "35          sed       2     cov    52.0  0.909722"
      ]
     },
     "execution_count": 5,
     "metadata": {},
     "output_type": "execute_result"
    }
   ],
   "source": [
    "results_dir = os.path.join(current_dir, \"debloating_results\")\n",
    "debloat_result = os.path.join(results_dir, 'cat_all_repeats.csv')\n",
    "\n",
    "utilities_to_compare = [\"chisel\", \"debop\", \"cov\"]\n",
    "baseline = \"bloated\"\n",
    "df =computeMannWhitneyU(debloat_result,utilities_to_compare, baseline)\n",
    "df"
   ]
  },
  {
   "cell_type": "code",
   "execution_count": 6,
   "metadata": {},
   "outputs": [
    {
     "data": {
      "application/vnd.microsoft.datawrangler.viewer.v0+json": {
       "columns": [
        {
         "name": "index",
         "rawType": "int64",
         "type": "integer"
        },
        {
         "name": "Program",
         "rawType": "object",
         "type": "string"
        },
        {
         "name": "Utility",
         "rawType": "object",
         "type": "string"
        },
        {
         "name": "All_Significant",
         "rawType": "bool",
         "type": "boolean"
        },
        {
         "name": "Mean_U_stat",
         "rawType": "float64",
         "type": "float"
        },
        {
         "name": "Effect",
         "rawType": "object",
         "type": "string"
        }
       ],
       "conversionMethod": "pd.DataFrame",
       "ref": "95af4c9a-52ca-4766-a56b-95a02ae4b716",
       "rows": [
        [
         "3",
         "grep",
         "chisel",
         "True",
         "100.0",
         "Higher"
        ],
        [
         "6",
         "gzip",
         "chisel",
         "True",
         "100.0",
         "Higher"
        ]
       ],
       "shape": {
        "columns": 5,
        "rows": 2
       }
      },
      "text/html": [
       "<div>\n",
       "<style scoped>\n",
       "    .dataframe tbody tr th:only-of-type {\n",
       "        vertical-align: middle;\n",
       "    }\n",
       "\n",
       "    .dataframe tbody tr th {\n",
       "        vertical-align: top;\n",
       "    }\n",
       "\n",
       "    .dataframe thead th {\n",
       "        text-align: right;\n",
       "    }\n",
       "</style>\n",
       "<table border=\"1\" class=\"dataframe\">\n",
       "  <thead>\n",
       "    <tr style=\"text-align: right;\">\n",
       "      <th></th>\n",
       "      <th>Program</th>\n",
       "      <th>Utility</th>\n",
       "      <th>All_Significant</th>\n",
       "      <th>Mean_U_stat</th>\n",
       "      <th>Effect</th>\n",
       "    </tr>\n",
       "  </thead>\n",
       "  <tbody>\n",
       "    <tr>\n",
       "      <th>3</th>\n",
       "      <td>grep</td>\n",
       "      <td>chisel</td>\n",
       "      <td>True</td>\n",
       "      <td>100.0</td>\n",
       "      <td>Higher</td>\n",
       "    </tr>\n",
       "    <tr>\n",
       "      <th>6</th>\n",
       "      <td>gzip</td>\n",
       "      <td>chisel</td>\n",
       "      <td>True</td>\n",
       "      <td>100.0</td>\n",
       "      <td>Higher</td>\n",
       "    </tr>\n",
       "  </tbody>\n",
       "</table>\n",
       "</div>"
      ],
      "text/plain": [
       "  Program Utility  All_Significant  Mean_U_stat  Effect\n",
       "3    grep  chisel             True        100.0  Higher\n",
       "6    gzip  chisel             True        100.0  Higher"
      ]
     },
     "execution_count": 6,
     "metadata": {},
     "output_type": "execute_result"
    }
   ],
   "source": [
    "sig =check_significance(df)\n",
    "significan_utility = sig[sig[\"All_Significant\"] == True]\n",
    "significan_utility"
   ]
  },
  {
   "cell_type": "code",
   "execution_count": 7,
   "metadata": {},
   "outputs": [
    {
     "name": "stdout",
     "output_type": "stream",
     "text": [
      " 11.11111111111111 % of the results are significant\n"
     ]
    }
   ],
   "source": [
    "percentage_significant = len(significan_utility) / len(sig) * 100\n",
    "print(f\" {percentage_significant} % of the results are significant\")"
   ]
  },
  {
   "cell_type": "code",
   "execution_count": null,
   "metadata": {},
   "outputs": [],
   "source": []
  },
  {
   "cell_type": "markdown",
   "metadata": {},
   "source": [
    "#### RQ1 - ALTERNATIVE "
   ]
  },
  {
   "cell_type": "code",
   "execution_count": 8,
   "metadata": {},
   "outputs": [
    {
     "data": {
      "application/vnd.microsoft.datawrangler.viewer.v0+json": {
       "columns": [
        {
         "name": "index",
         "rawType": "int64",
         "type": "integer"
        },
        {
         "name": "Program",
         "rawType": "object",
         "type": "string"
        },
        {
         "name": "TestNr",
         "rawType": "int64",
         "type": "integer"
        },
        {
         "name": "Utility",
         "rawType": "object",
         "type": "string"
        },
        {
         "name": "U_stat",
         "rawType": "float64",
         "type": "float"
        },
        {
         "name": "p_value",
         "rawType": "float64",
         "type": "float"
        }
       ],
       "conversionMethod": "pd.DataFrame",
       "ref": "023635b9-6067-4fdd-90e5-e65e61096c2e",
       "rows": [
        [
         "0",
         "base64",
         "1",
         "ToyBox",
         "100.0",
         "0.00018267179110955002"
        ],
        [
         "1",
         "base64",
         "1",
         "BusyBox",
         "92.0",
         "0.0017062493689195964"
        ],
        [
         "2",
         "base64",
         "2",
         "ToyBox",
         "100.0",
         "0.00018267179110955002"
        ],
        [
         "3",
         "base64",
         "2",
         "BusyBox",
         "100.0",
         "0.00018267179110955002"
        ],
        [
         "4",
         "basename",
         "1",
         "ToyBox",
         "44.5",
         "0.7053513720635047"
        ],
        [
         "5",
         "basename",
         "1",
         "BusyBox",
         "48.0",
         "0.9097218891455553"
        ],
        [
         "6",
         "basename",
         "2",
         "ToyBox",
         "48.0",
         "0.9097218891455553"
        ],
        [
         "7",
         "basename",
         "2",
         "BusyBox",
         "52.0",
         "0.9096880762234906"
        ],
        [
         "8",
         "cat",
         "1",
         "ToyBox",
         "100.0",
         "0.00018267179110955002"
        ],
        [
         "9",
         "cat",
         "1",
         "BusyBox",
         "100.0",
         "0.00018267179110955002"
        ],
        [
         "10",
         "cat",
         "2",
         "ToyBox",
         "100.0",
         "0.00018267179110955002"
        ],
        [
         "11",
         "cat",
         "2",
         "BusyBox",
         "100.0",
         "0.00018267179110955002"
        ],
        [
         "12",
         "chmod",
         "1",
         "ToyBox",
         "55.0",
         "0.7337299956962472"
        ],
        [
         "13",
         "chmod",
         "1",
         "BusyBox",
         "38.0",
         "0.3846730627355087"
        ],
        [
         "14",
         "chmod",
         "2",
         "ToyBox",
         "43.0",
         "0.6231762238821174"
        ],
        [
         "15",
         "chmod",
         "2",
         "BusyBox",
         "100.0",
         "0.00018267179110955002"
        ],
        [
         "16",
         "cksum",
         "1",
         "ToyBox",
         "100.0",
         "0.00018267179110955002"
        ],
        [
         "17",
         "cksum",
         "1",
         "BusyBox",
         "100.0",
         "0.00018267179110955002"
        ],
        [
         "18",
         "cksum",
         "2",
         "ToyBox",
         "94.0",
         "0.0010079762403767444"
        ],
        [
         "19",
         "cksum",
         "2",
         "BusyBox",
         "93.0",
         "0.0013149446697132139"
        ],
        [
         "20",
         "comm",
         "1",
         "ToyBox",
         "100.0",
         "0.00018267179110955002"
        ],
        [
         "21",
         "comm",
         "1",
         "BusyBox",
         "100.0",
         "0.00018267179110955002"
        ],
        [
         "22",
         "comm",
         "2",
         "ToyBox",
         "94.0",
         "0.0010079762403767444"
        ],
        [
         "23",
         "comm",
         "2",
         "BusyBox",
         "100.0",
         "0.00018267179110955002"
        ],
        [
         "24",
         "cp",
         "1",
         "ToyBox",
         "60.0",
         "0.47267559351158717"
        ],
        [
         "25",
         "cp",
         "1",
         "BusyBox",
         "46.0",
         "0.7913367801006604"
        ],
        [
         "26",
         "cut",
         "1",
         "ToyBox",
         "100.0",
         "0.00018267179110955002"
        ],
        [
         "27",
         "cut",
         "1",
         "BusyBox",
         "100.0",
         "0.00018267179110955002"
        ],
        [
         "28",
         "cut",
         "2",
         "ToyBox",
         "100.0",
         "0.00018267179110955002"
        ],
        [
         "29",
         "cut",
         "2",
         "BusyBox",
         "100.0",
         "0.00018267179110955002"
        ],
        [
         "30",
         "date",
         "1",
         "ToyBox",
         "56.0",
         "0.6775849579524755"
        ],
        [
         "31",
         "date",
         "1",
         "BusyBox",
         "49.5",
         "1.0"
        ],
        [
         "32",
         "date",
         "2",
         "ToyBox",
         "44.0",
         "0.6775849579524755"
        ],
        [
         "33",
         "date",
         "2",
         "BusyBox",
         "39.0",
         "0.4273553138978077"
        ],
        [
         "34",
         "dirname",
         "1",
         "ToyBox",
         "33.0",
         "0.21229383619233155"
        ],
        [
         "35",
         "dirname",
         "1",
         "BusyBox",
         "47.0",
         "0.8501067391385259"
        ],
        [
         "36",
         "dirname",
         "2",
         "ToyBox",
         "45.5",
         "0.762282125586337"
        ],
        [
         "37",
         "dirname",
         "2",
         "BusyBox",
         "33.0",
         "0.21229383619233155"
        ],
        [
         "38",
         "du",
         "1",
         "ToyBox",
         "46.0",
         "0.7912601064031788"
        ],
        [
         "39",
         "du",
         "1",
         "BusyBox",
         "40.0",
         "0.472509068324386"
        ],
        [
         "40",
         "du",
         "2",
         "ToyBox",
         "50.0",
         "1.0"
        ],
        [
         "41",
         "du",
         "2",
         "BusyBox",
         "20.0",
         "0.025692444548908212"
        ],
        [
         "42",
         "echo",
         "1",
         "ToyBox",
         "37.0",
         "0.3447042220069576"
        ],
        [
         "43",
         "echo",
         "1",
         "BusyBox",
         "30.0",
         "0.14046504815835495"
        ],
        [
         "44",
         "echo",
         "2",
         "ToyBox",
         "35.0",
         "0.27303633975118835"
        ],
        [
         "45",
         "echo",
         "2",
         "BusyBox",
         "31.0",
         "0.16197241048012612"
        ],
        [
         "46",
         "expand",
         "1",
         "ToyBox",
         "0.0",
         "0.00018267179110955002"
        ],
        [
         "47",
         "expand",
         "1",
         "BusyBox",
         "100.0",
         "0.00018267179110955002"
        ],
        [
         "48",
         "expand",
         "2",
         "ToyBox",
         "0.0",
         "0.00018267179110955002"
        ],
        [
         "49",
         "expand",
         "2",
         "BusyBox",
         "100.0",
         "0.00018267179110955002"
        ]
       ],
       "shape": {
        "columns": 5,
        "rows": 110
       }
      },
      "text/html": [
       "<div>\n",
       "<style scoped>\n",
       "    .dataframe tbody tr th:only-of-type {\n",
       "        vertical-align: middle;\n",
       "    }\n",
       "\n",
       "    .dataframe tbody tr th {\n",
       "        vertical-align: top;\n",
       "    }\n",
       "\n",
       "    .dataframe thead th {\n",
       "        text-align: right;\n",
       "    }\n",
       "</style>\n",
       "<table border=\"1\" class=\"dataframe\">\n",
       "  <thead>\n",
       "    <tr style=\"text-align: right;\">\n",
       "      <th></th>\n",
       "      <th>Program</th>\n",
       "      <th>TestNr</th>\n",
       "      <th>Utility</th>\n",
       "      <th>U_stat</th>\n",
       "      <th>p_value</th>\n",
       "    </tr>\n",
       "  </thead>\n",
       "  <tbody>\n",
       "    <tr>\n",
       "      <th>0</th>\n",
       "      <td>base64</td>\n",
       "      <td>1</td>\n",
       "      <td>ToyBox</td>\n",
       "      <td>100.0</td>\n",
       "      <td>0.000183</td>\n",
       "    </tr>\n",
       "    <tr>\n",
       "      <th>1</th>\n",
       "      <td>base64</td>\n",
       "      <td>1</td>\n",
       "      <td>BusyBox</td>\n",
       "      <td>92.0</td>\n",
       "      <td>0.001706</td>\n",
       "    </tr>\n",
       "    <tr>\n",
       "      <th>2</th>\n",
       "      <td>base64</td>\n",
       "      <td>2</td>\n",
       "      <td>ToyBox</td>\n",
       "      <td>100.0</td>\n",
       "      <td>0.000183</td>\n",
       "    </tr>\n",
       "    <tr>\n",
       "      <th>3</th>\n",
       "      <td>base64</td>\n",
       "      <td>2</td>\n",
       "      <td>BusyBox</td>\n",
       "      <td>100.0</td>\n",
       "      <td>0.000183</td>\n",
       "    </tr>\n",
       "    <tr>\n",
       "      <th>4</th>\n",
       "      <td>basename</td>\n",
       "      <td>1</td>\n",
       "      <td>ToyBox</td>\n",
       "      <td>44.5</td>\n",
       "      <td>0.705351</td>\n",
       "    </tr>\n",
       "    <tr>\n",
       "      <th>...</th>\n",
       "      <td>...</td>\n",
       "      <td>...</td>\n",
       "      <td>...</td>\n",
       "      <td>...</td>\n",
       "      <td>...</td>\n",
       "    </tr>\n",
       "    <tr>\n",
       "      <th>105</th>\n",
       "      <td>true</td>\n",
       "      <td>2</td>\n",
       "      <td>BusyBox</td>\n",
       "      <td>46.0</td>\n",
       "      <td>0.791337</td>\n",
       "    </tr>\n",
       "    <tr>\n",
       "      <th>106</th>\n",
       "      <td>wc</td>\n",
       "      <td>1</td>\n",
       "      <td>ToyBox</td>\n",
       "      <td>0.0</td>\n",
       "      <td>0.000183</td>\n",
       "    </tr>\n",
       "    <tr>\n",
       "      <th>107</th>\n",
       "      <td>wc</td>\n",
       "      <td>1</td>\n",
       "      <td>BusyBox</td>\n",
       "      <td>0.0</td>\n",
       "      <td>0.000183</td>\n",
       "    </tr>\n",
       "    <tr>\n",
       "      <th>108</th>\n",
       "      <td>wc</td>\n",
       "      <td>2</td>\n",
       "      <td>ToyBox</td>\n",
       "      <td>0.0</td>\n",
       "      <td>0.000183</td>\n",
       "    </tr>\n",
       "    <tr>\n",
       "      <th>109</th>\n",
       "      <td>wc</td>\n",
       "      <td>2</td>\n",
       "      <td>BusyBox</td>\n",
       "      <td>0.0</td>\n",
       "      <td>0.000183</td>\n",
       "    </tr>\n",
       "  </tbody>\n",
       "</table>\n",
       "<p>110 rows × 5 columns</p>\n",
       "</div>"
      ],
      "text/plain": [
       "      Program  TestNr  Utility  U_stat   p_value\n",
       "0      base64       1   ToyBox   100.0  0.000183\n",
       "1      base64       1  BusyBox    92.0  0.001706\n",
       "2      base64       2   ToyBox   100.0  0.000183\n",
       "3      base64       2  BusyBox   100.0  0.000183\n",
       "4    basename       1   ToyBox    44.5  0.705351\n",
       "..        ...     ...      ...     ...       ...\n",
       "105      true       2  BusyBox    46.0  0.791337\n",
       "106        wc       1   ToyBox     0.0  0.000183\n",
       "107        wc       1  BusyBox     0.0  0.000183\n",
       "108        wc       2   ToyBox     0.0  0.000183\n",
       "109        wc       2  BusyBox     0.0  0.000183\n",
       "\n",
       "[110 rows x 5 columns]"
      ]
     },
     "execution_count": 8,
     "metadata": {},
     "output_type": "execute_result"
    }
   ],
   "source": [
    "results_dir = os.path.join(current_dir, \"results\")\n",
    "alternative_result = os.path.join(results_dir, 'cat_all_repeats.csv')\n",
    "utilities_to_compare = [\"ToyBox\", \"BusyBox\"]\n",
    "baseline = \"GNU\"\n",
    "df=computeMannWhitneyU(alternative_result,utilities_to_compare, baseline)\n",
    "df"
   ]
  },
  {
   "cell_type": "code",
   "execution_count": 9,
   "metadata": {},
   "outputs": [],
   "source": [
    "sig =check_significance(df)\n",
    "significan_utility = sig[sig[\"All_Significant\"] == True]\n",
    "significan_utility.to_csv(\"significant_utility.csv\", index=False)"
   ]
  },
  {
   "cell_type": "code",
   "execution_count": 10,
   "metadata": {},
   "outputs": [
    {
     "name": "stdout",
     "output_type": "stream",
     "text": [
      " 32.142857142857146 % of the results are significant\n"
     ]
    }
   ],
   "source": [
    "percentage_significant = len(significan_utility) / len(sig) * 100\n",
    "print(f\" {percentage_significant} % of the results are significant\")"
   ]
  },
  {
   "cell_type": "markdown",
   "metadata": {},
   "source": [
    "## Analysis at global level"
   ]
  },
  {
   "cell_type": "code",
   "execution_count": null,
   "metadata": {},
   "outputs": [],
   "source": [
    "def computeMannWhitneyUGlobal(input_file_path, utilities, baseline):\n",
    "    \"\"\"\n",
    "    Performs the Mann-Whitney U test on PSYS values between a baseline utility \n",
    "    and each specified utility across all measurements.\n",
    "    \n",
    "    Parameters:\n",
    "        input_file_path (str): Path to the CSV file.\n",
    "        utilities (list): List of utilities to compare against the baseline.\n",
    "        baseline (str): The reference utility (e.g., \"bloated\").\n",
    "    \n",
    "    Returns:\n",
    "        pd.DataFrame: DataFrame with columns [\"Utility\", \"U_stat\", \"p_value\"].\n",
    "    \"\"\"\n",
    "    # Load CSV file\n",
    "    df = pd.read_csv(input_file_path, delimiter=\";\", engine=\"python\")\n",
    "\n",
    "    # Extract PSYS values for the baseline utility\n",
    "    psys_bloated = df[df[\"Utilities\"] == baseline][\"PSYS\"]\n",
    "\n",
    "    # Initialize results list\n",
    "    results = []\n",
    "\n",
    "    for utility in utilities:\n",
    "        if utility == baseline:\n",
    "            continue  # Skip comparing the baseline to itself\n",
    "\n",
    "        # Extract PSYS values for the current utility\n",
    "        psys_other = df[df[\"Utilities\"] == utility][\"PSYS\"]\n",
    "\n",
    "        # Ensure both samples have data before performing the test\n",
    "        if len(psys_bloated) > 0 and len(psys_other) > 0:\n",
    "            # Perform Mann-Whitney U test\n",
    "            u_stat, p_value = mannwhitneyu(psys_other, psys_bloated, alternative=\"two-sided\")\n",
    "\n",
    "            # Store results\n",
    "            results.append((utility, u_stat, p_value))\n",
    "\n",
    "    # Convert results into a DataFrame\n",
    "    results_df = pd.DataFrame(results, columns=[\"Utility\", \"U_stat\", \"p_value\"])\n",
    "\n",
    "    return results_df"
   ]
  },
  {
   "cell_type": "code",
   "execution_count": null,
   "metadata": {},
   "outputs": [
    {
     "data": {
      "application/vnd.microsoft.datawrangler.viewer.v0+json": {
       "columns": [
        {
         "name": "index",
         "rawType": "int64",
         "type": "integer"
        },
        {
         "name": "Utility",
         "rawType": "object",
         "type": "string"
        },
        {
         "name": "U_stat",
         "rawType": "float64",
         "type": "float"
        },
        {
         "name": "p_value",
         "rawType": "float64",
         "type": "float"
        }
       ],
       "conversionMethod": "pd.DataFrame",
       "ref": "3c457950-37d4-4ea7-97fa-2355566c49d6",
       "rows": [
        [
         "0",
         "chisel",
         "8001.5",
         "0.1363583655477178"
        ],
        [
         "1",
         "debop",
         "6890.5",
         "0.5655645261490689"
        ],
        [
         "2",
         "cov",
         "7034.5",
         "0.758976378283913"
        ]
       ],
       "shape": {
        "columns": 3,
        "rows": 3
       }
      },
      "text/html": [
       "<div>\n",
       "<style scoped>\n",
       "    .dataframe tbody tr th:only-of-type {\n",
       "        vertical-align: middle;\n",
       "    }\n",
       "\n",
       "    .dataframe tbody tr th {\n",
       "        vertical-align: top;\n",
       "    }\n",
       "\n",
       "    .dataframe thead th {\n",
       "        text-align: right;\n",
       "    }\n",
       "</style>\n",
       "<table border=\"1\" class=\"dataframe\">\n",
       "  <thead>\n",
       "    <tr style=\"text-align: right;\">\n",
       "      <th></th>\n",
       "      <th>Utility</th>\n",
       "      <th>U_stat</th>\n",
       "      <th>p_value</th>\n",
       "    </tr>\n",
       "  </thead>\n",
       "  <tbody>\n",
       "    <tr>\n",
       "      <th>0</th>\n",
       "      <td>chisel</td>\n",
       "      <td>8001.5</td>\n",
       "      <td>0.136358</td>\n",
       "    </tr>\n",
       "    <tr>\n",
       "      <th>1</th>\n",
       "      <td>debop</td>\n",
       "      <td>6890.5</td>\n",
       "      <td>0.565565</td>\n",
       "    </tr>\n",
       "    <tr>\n",
       "      <th>2</th>\n",
       "      <td>cov</td>\n",
       "      <td>7034.5</td>\n",
       "      <td>0.758976</td>\n",
       "    </tr>\n",
       "  </tbody>\n",
       "</table>\n",
       "</div>"
      ],
      "text/plain": [
       "  Utility  U_stat   p_value\n",
       "0  chisel  8001.5  0.136358\n",
       "1   debop  6890.5  0.565565\n",
       "2     cov  7034.5  0.758976"
      ]
     },
     "execution_count": 56,
     "metadata": {},
     "output_type": "execute_result"
    }
   ],
   "source": [
    "results_dir = os.path.join(current_dir, \"debloating_results\")\n",
    "debloat_result = os.path.join(results_dir, 'cat_all_repeats.csv')\n",
    "\n",
    "utilities_to_compare = [\"chisel\", \"debop\", \"cov\"]\n",
    "baseline = \"bloated\"\n",
    "df =computeMannWhitneyUGlobal(debloat_result,utilities_to_compare, baseline)\n",
    "df"
   ]
  },
  {
   "cell_type": "code",
   "execution_count": null,
   "metadata": {},
   "outputs": [
    {
     "data": {
      "application/vnd.microsoft.datawrangler.viewer.v0+json": {
       "columns": [
        {
         "name": "index",
         "rawType": "int64",
         "type": "integer"
        },
        {
         "name": "Utility",
         "rawType": "object",
         "type": "string"
        },
        {
         "name": "U_stat",
         "rawType": "float64",
         "type": "float"
        },
        {
         "name": "p_value",
         "rawType": "float64",
         "type": "float"
        }
       ],
       "conversionMethod": "pd.DataFrame",
       "ref": "812b15a4-d45a-4896-aac4-996791c6eae7",
       "rows": [
        [
         "0",
         "ToyBox",
         "152893.0",
         "0.7552123317721945"
        ],
        [
         "1",
         "BusyBox",
         "143035.5",
         "0.11895981932730817"
        ]
       ],
       "shape": {
        "columns": 3,
        "rows": 2
       }
      },
      "text/html": [
       "<div>\n",
       "<style scoped>\n",
       "    .dataframe tbody tr th:only-of-type {\n",
       "        vertical-align: middle;\n",
       "    }\n",
       "\n",
       "    .dataframe tbody tr th {\n",
       "        vertical-align: top;\n",
       "    }\n",
       "\n",
       "    .dataframe thead th {\n",
       "        text-align: right;\n",
       "    }\n",
       "</style>\n",
       "<table border=\"1\" class=\"dataframe\">\n",
       "  <thead>\n",
       "    <tr style=\"text-align: right;\">\n",
       "      <th></th>\n",
       "      <th>Utility</th>\n",
       "      <th>U_stat</th>\n",
       "      <th>p_value</th>\n",
       "    </tr>\n",
       "  </thead>\n",
       "  <tbody>\n",
       "    <tr>\n",
       "      <th>0</th>\n",
       "      <td>ToyBox</td>\n",
       "      <td>152893.0</td>\n",
       "      <td>0.755212</td>\n",
       "    </tr>\n",
       "    <tr>\n",
       "      <th>1</th>\n",
       "      <td>BusyBox</td>\n",
       "      <td>143035.5</td>\n",
       "      <td>0.118960</td>\n",
       "    </tr>\n",
       "  </tbody>\n",
       "</table>\n",
       "</div>"
      ],
      "text/plain": [
       "   Utility    U_stat   p_value\n",
       "0   ToyBox  152893.0  0.755212\n",
       "1  BusyBox  143035.5  0.118960"
      ]
     },
     "execution_count": 57,
     "metadata": {},
     "output_type": "execute_result"
    }
   ],
   "source": [
    "results_dir = os.path.join(current_dir, \"results\")\n",
    "alternative_result = os.path.join(results_dir, 'cat_all_repeats.csv')\n",
    "utilities_to_compare = [\"ToyBox\", \"BusyBox\"]\n",
    "baseline = \"GNU\"\n",
    "df=computeMannWhitneyUGlobal(alternative_result,utilities_to_compare, baseline)\n",
    "df"
   ]
  }
 ],
 "metadata": {
  "kernelspec": {
   "display_name": ".venv",
   "language": "python",
   "name": "python3"
  },
  "language_info": {
   "codemirror_mode": {
    "name": "ipython",
    "version": 3
   },
   "file_extension": ".py",
   "mimetype": "text/x-python",
   "name": "python",
   "nbconvert_exporter": "python",
   "pygments_lexer": "ipython3",
   "version": "3.12.4"
  },
  "orig_nbformat": 4
 },
 "nbformat": 4,
 "nbformat_minor": 2
}
