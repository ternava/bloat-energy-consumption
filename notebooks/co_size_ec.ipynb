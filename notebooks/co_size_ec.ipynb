{
 "cells": [
  {
   "cell_type": "code",
   "execution_count": 78,
   "metadata": {},
   "outputs": [],
   "source": [
    "import os\n",
    "import pandas as pd"
   ]
  },
  {
   "cell_type": "code",
   "execution_count": 79,
   "metadata": {},
   "outputs": [],
   "source": [
    "#directory = \"/home/xternava/Documents/GitHub/bloat-energy-consumption/notebooks/data/repeat05/\""
   ]
  },
  {
   "cell_type": "code",
   "execution_count": 91,
   "metadata": {},
   "outputs": [
    {
     "name": "stdout",
     "output_type": "stream",
     "text": [
      "/home/xternava/Documents/GitHub/bloat-energy-consumption /home/xternava/Documents/GitHub/bloat-energy-consumption/notebooks /home/xternava/Documents/GitHub/bloat-energy-consumption/notebooks/results /home/xternava/Documents/GitHub/bloat-energy-consumption/notebooks/data\n"
     ]
    }
   ],
   "source": [
    "# Get the directory with the notebooks, including its subdirectories\n",
    "current_dir = os.getcwd()\n",
    "\n",
    "# Get the directories with data and results\n",
    "data_dir = os.path.join(current_dir, \"data\")\n",
    "temporary_dir= os.path.join(current_dir, \"temporary_data\")\n",
    "results_dir = os.path.join(current_dir, \"results\")\n",
    "\n",
    "project_dir = os.path.dirname(current_dir)\n",
    "\n",
    "print(project_dir, current_dir, results_dir, data_dir)"
   ]
  },
  {
   "cell_type": "code",
   "execution_count": 81,
   "metadata": {},
   "outputs": [
    {
     "name": "stdout",
     "output_type": "stream",
     "text": [
      "CSV files concatenated and saved to '/home/xternava/Documents/GitHub/bloat-energy-consumption/notebooks/results/cat_repeat01.csv'.\n"
     ]
    }
   ],
   "source": [
    "# Using this function, the purpose is to cancatenate all generated measurements for each repeated experiment \n",
    "def concatenate_csv_files(directory_path, output_file):\n",
    "    file_list = os.listdir(directory_path)\n",
    "    csv_files = [file for file in file_list if file.endswith(\".csv\")]\n",
    "\n",
    "    if not csv_files:\n",
    "        print(\"No CSV files found in the directory.\")\n",
    "        return\n",
    "\n",
    "    dfs = []\n",
    "    for file in csv_files:\n",
    "        file_path = os.path.join(directory_path, file)\n",
    "        df = pd.read_csv(file_path, delimiter=';') # This is important, the delimiter\n",
    "        filename_parts = file[:-4].split(\"_\")  # Split filename and remove \".csv\" extension\n",
    "        df['Program'] = filename_parts[0]\n",
    "        df['TestNr'] = filename_parts[1]\n",
    "        df['Utilities'] = filename_parts[2]\n",
    "        dfs.append(df)\n",
    "\n",
    "    concatenated_df = pd.concat(dfs, ignore_index=True)\n",
    "    concatenated_df.to_csv(output_file, index=False, sep=';')  # Use semicolon as delimiter\n",
    "\n",
    "    print(f\"CSV files concatenated and saved to '{output_file}'.\")\n",
    "\n",
    "# All data into files in the folder save in a new CSV file\n",
    "input_data = os.path.join(data_dir, 'repeat01/') # You need to change this for each new folder that you want to concatenate its files\n",
    "output_data = os.path.join(results_dir, 'cat_repeat01.csv') # You need to change this for each new folder given above\n",
    "\n",
    "concatenate_csv_files(input_data, output_data)"
   ]
  },
  {
   "cell_type": "code",
   "execution_count": 87,
   "metadata": {},
   "outputs": [
    {
     "name": "stdout",
     "output_type": "stream",
     "text": [
      "CSV files concatenated and saved to '/home/xternava/Documents/GitHub/bloat-energy-consumption/notebooks/results/cat_all5repeats.csv'.\n"
     ]
    }
   ],
   "source": [
    "# Using this function, the purpose is to concatenate all resulting files from all 5 executions\n",
    "def concatenate_allcsv_files(directory_path, output_file):\n",
    "    file_list = os.listdir(directory_path)\n",
    "    csv_files = [file for file in file_list if file.endswith(\".csv\")]\n",
    "\n",
    "    if not csv_files:\n",
    "        print(\"No CSV files found in the directory.\")\n",
    "        return\n",
    "\n",
    "    dfs = []\n",
    "    for file in csv_files:\n",
    "        file_path = os.path.join(directory_path, file)\n",
    "        df = pd.read_csv(file_path, delimiter=';') # This is important, the delimiter\n",
    "        df['Repetition'] = file  # Add filename as a new column\n",
    "        dfs.append(df)\n",
    "\n",
    "    concatenated_df = pd.concat(dfs, ignore_index=True)\n",
    "    concatenated_df.to_csv(output_file, index=False, sep=';')  # Use semicolon as delimiter\n",
    "\n",
    "\n",
    "    print(f\"CSV files concatenated and saved to '{output_file}'.\")\n",
    "\n",
    "# Save in a new CSV file\n",
    "output_alldata = os.path.join(results_dir, 'cat_all5repeats.csv')\n",
    "\n",
    "concatenate_allcsv_files(temporary_dir, output_alldata)"
   ]
  },
  {
   "cell_type": "code",
   "execution_count": 88,
   "metadata": {},
   "outputs": [
    {
     "name": "stdout",
     "output_type": "stream",
     "text": [
      "Average PSYS values written to '/home/xternava/Documents/GitHub/bloat-energy-consumption/notebooks/results/averagePSYS_all5repeats.csv'.\n"
     ]
    }
   ],
   "source": [
    "# Now we need to find the average value of PSYS for all measurements of a program \n",
    "def calculate_average_PSYS(input_file, output_file):\n",
    "    # Read the CSV file\n",
    "    df = pd.read_csv(input_file, delimiter=';')\n",
    "    \n",
    "    # Calculate average of 'PSYS' column for each unique combination of 'Program' and 'Utilities'\n",
    "    average_psys = df.groupby(['Program', 'Utilities'])['PSYS'].mean().reset_index()\n",
    "    \n",
    "    # Write the average values to a new file separated with a semicolon\n",
    "    average_psys.to_csv(output_file, index=False, sep=';')\n",
    "    \n",
    "    print(f\"Average PSYS values written to '{output_file}'.\")\n",
    "\n",
    "# Required inputs and outputs\n",
    "input_data = os.path.join(results_dir, 'cat_all5repeats.csv')\n",
    "output_data = os.path.join(results_dir, 'averagePSYS_all5repeats.csv')\n",
    "\n",
    "calculate_average_PSYS(input_data, output_data)\n"
   ]
  },
  {
   "cell_type": "code",
   "execution_count": 95,
   "metadata": {},
   "outputs": [],
   "source": [
    "# After we need to put together the PSYS and Size values for each program in each of the 3 different implementations\n",
    "def merge_csv_files(first_csv_path, second_csv_path, output_csv_path):\n",
    "    # Read the first CSV file into a DataFrame\n",
    "    first_df = pd.read_csv(first_csv_path, delimiter=';')\n",
    "\n",
    "    # Read the second CSV file into another DataFrame\n",
    "    second_df = pd.read_csv(second_csv_path, delimiter=';')\n",
    "\n",
    "    # Merge the two DataFrames base on the 'Program' column\n",
    "    merged_df = pd.merge(second_df, first_df, on='Program')\n",
    "    \n",
    "    # Reorder the columns, we want to have 'Size' at the end\n",
    "    columns = list(merged_df.columns)\n",
    "    columns.remove('Size')\n",
    "    columns.append('Size')\n",
    "    merged_df = merged_df[columns]\n",
    "    \n",
    "\n",
    "    # Save the merged DataFrame to a new CSV file\n",
    "    merged_df.to_csv(output_csv_path, index=False)\n",
    "\n",
    "# Example usage\n",
    "csv_with_ec = os.path.join(results_dir, 'averagePSYS_all5repeats.csv')\n",
    "csv_with_size = os.path.join(project_dir, 'pre-experiment/res-bs-busybox.csv') # This is wrong, but still I'm fixing it\n",
    "output_file = os.path.join(results_dir, 'all_ec_bsize.csv')\n",
    "\n",
    "merge_csv_files(csv_with_ec, csv_with_size, output_file)\n"
   ]
  }
 ],
 "metadata": {
  "kernelspec": {
   "display_name": "venv",
   "language": "python",
   "name": "python3"
  },
  "language_info": {
   "codemirror_mode": {
    "name": "ipython",
    "version": 3
   },
   "file_extension": ".py",
   "mimetype": "text/x-python",
   "name": "python",
   "nbconvert_exporter": "python",
   "pygments_lexer": "ipython3",
   "version": "3.10.8"
  },
  "orig_nbformat": 4
 },
 "nbformat": 4,
 "nbformat_minor": 2
}
