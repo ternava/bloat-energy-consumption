{
 "cells": [
  {
   "cell_type": "code",
   "execution_count": 78,
   "metadata": {},
   "outputs": [],
   "source": [
    "import os\n",
    "import pandas as pd"
   ]
  },
  {
   "cell_type": "code",
   "execution_count": 79,
   "metadata": {},
   "outputs": [],
   "source": [
    "#directory = \"/home/xternava/Documents/GitHub/bloat-energy-consumption/notebooks/data/repeat05/\""
   ]
  },
  {
   "cell_type": "code",
   "execution_count": 91,
   "metadata": {},
   "outputs": [
    {
     "name": "stdout",
     "output_type": "stream",
     "text": [
      "/home/xternava/Documents/GitHub/bloat-energy-consumption /home/xternava/Documents/GitHub/bloat-energy-consumption/notebooks /home/xternava/Documents/GitHub/bloat-energy-consumption/notebooks/results /home/xternava/Documents/GitHub/bloat-energy-consumption/notebooks/data\n"
     ]
    }
   ],
   "source": [
    "# Get the directory with the notebooks, including its subdirectories\n",
    "current_dir = os.getcwd()\n",
    "\n",
    "# Get the directories with data and results\n",
    "data_dir = os.path.join(current_dir, \"data\")\n",
    "temporary_dir= os.path.join(current_dir, \"temporary_data\")\n",
    "results_dir = os.path.join(current_dir, \"results\")\n",
    "\n",
    "project_dir = os.path.dirname(current_dir)\n",
    "\n",
    "print(project_dir, current_dir, results_dir, data_dir)"
   ]
  },
  {
   "cell_type": "code",
   "execution_count": 81,
   "metadata": {},
   "outputs": [
    {
     "name": "stdout",
     "output_type": "stream",
     "text": [
      "CSV files concatenated and saved to '/home/xternava/Documents/GitHub/bloat-energy-consumption/notebooks/results/cat_repeat01.csv'.\n"
     ]
    }
   ],
   "source": [
    "# Using this function, the purpose is to cancatenate all generated measurements for each repeated experiment \n",
    "def concatenate_csv_files(directory_path, output_file):\n",
    "    file_list = os.listdir(directory_path)\n",
    "    csv_files = [file for file in file_list if file.endswith(\".csv\")]\n",
    "\n",
    "    if not csv_files:\n",
    "        print(\"No CSV files found in the directory.\")\n",
    "        return\n",
    "\n",
    "    dfs = []\n",
    "    for file in csv_files:\n",
    "        file_path = os.path.join(directory_path, file)\n",
    "        df = pd.read_csv(file_path, delimiter=';') # This is important, the delimiter\n",
    "        filename_parts = file[:-4].split(\"_\")  # Split filename and remove \".csv\" extension\n",
    "        df['Program'] = filename_parts[0]\n",
    "        df['TestNr'] = filename_parts[1]\n",
    "        df['Utilities'] = filename_parts[2]\n",
    "        dfs.append(df)\n",
    "\n",
    "    concatenated_df = pd.concat(dfs, ignore_index=True)\n",
    "    concatenated_df.to_csv(output_file, index=False, sep=';')  # Use semicolon as delimiter\n",
    "\n",
    "    print(f\"CSV files concatenated and saved to '{output_file}'.\")\n",
    "\n",
    "# All data into files in the folder save in a new CSV file\n",
    "input_data = os.path.join(data_dir, 'repeat01/') # You need to change this for each new folder that you want to concatenate its files\n",
    "output_data = os.path.join(results_dir, 'cat_repeat01.csv') # You need to change this for each new folder given above\n",
    "\n",
    "concatenate_csv_files(input_data, output_data)"
   ]
  },
  {
   "cell_type": "code",
   "execution_count": 87,
   "metadata": {},
   "outputs": [
    {
     "name": "stdout",
     "output_type": "stream",
     "text": [
      "CSV files concatenated and saved to '/home/xternava/Documents/GitHub/bloat-energy-consumption/notebooks/results/cat_all5repeats.csv'.\n"
     ]
    }
   ],
   "source": [
    "# Using this function, the purpose is to concatenate all resulting files from all 5 executions\n",
    "def concatenate_allcsv_files(directory_path, output_file):\n",
    "    file_list = os.listdir(directory_path)\n",
    "    csv_files = [file for file in file_list if file.endswith(\".csv\")]\n",
    "\n",
    "    if not csv_files:\n",
    "        print(\"No CSV files found in the directory.\")\n",
    "        return\n",
    "\n",
    "    dfs = []\n",
    "    for file in csv_files:\n",
    "        file_path = os.path.join(directory_path, file)\n",
    "        df = pd.read_csv(file_path, delimiter=';') # This is important, the delimiter\n",
    "        df['Repetition'] = file  # Add filename as a new column\n",
    "        dfs.append(df)\n",
    "\n",
    "    concatenated_df = pd.concat(dfs, ignore_index=True)\n",
    "    concatenated_df.to_csv(output_file, index=False, sep=';')  # Use semicolon as delimiter\n",
    "\n",
    "\n",
    "    print(f\"CSV files concatenated and saved to '{output_file}'.\")\n",
    "\n",
    "# Save in a new CSV file\n",
    "output_alldata = os.path.join(results_dir, 'cat_all5repeats.csv')\n",
    "\n",
    "concatenate_allcsv_files(temporary_dir, output_alldata)"
   ]
  },
  {
   "cell_type": "code",
   "execution_count": 88,
   "metadata": {},
   "outputs": [
    {
     "name": "stdout",
     "output_type": "stream",
     "text": [
      "Average PSYS values written to '/home/xternava/Documents/GitHub/bloat-energy-consumption/notebooks/results/averagePSYS_all5repeats.csv'.\n"
     ]
    }
   ],
   "source": [
    "# Now we need to find the average value of PSYS for all measurements of a program \n",
    "def calculate_average_PSYS(input_file, output_file):\n",
    "    # Read the CSV file\n",
    "    df = pd.read_csv(input_file, delimiter=';')\n",
    "    \n",
    "    # Calculate average of 'PSYS' column for each unique combination of 'Program' and 'Utilities'\n",
    "    average_psys = df.groupby(['Program', 'Utilities'])['PSYS'].mean().reset_index()\n",
    "    \n",
    "    # Write the average values to a new file separated with a semicolon\n",
    "    average_psys.to_csv(output_file, index=False, sep=';')\n",
    "    \n",
    "    print(f\"Average PSYS values written to '{output_file}'.\")\n",
    "\n",
    "# Required inputs and outputs\n",
    "input_data = os.path.join(results_dir, 'cat_all5repeats.csv')\n",
    "output_data = os.path.join(results_dir, 'averagePSYS_all5repeats.csv')\n",
    "\n",
    "calculate_average_PSYS(input_data, output_data)\n"
   ]
  },
  {
   "cell_type": "code",
   "execution_count": 120,
   "metadata": {},
   "outputs": [],
   "source": [
    "# After we need to put together the PSYS and Size values for each program in each of the 3 different implementations\n",
    "# After we need to put together the PSYS and Size values for each program in each of the 3 different implementations\n",
    "import csv\n",
    "\n",
    "# Example usage\n",
    "csv_with_ec = os.path.join(results_dir, 'averagePSYS_all5repeats.csv')\n",
    "csv_with_size = os.path.join(project_dir, 'pre-experiment/programs.csv') \n",
    "output_file = os.path.join(results_dir, 'all_ec_bsize.csv')\n",
    "\n",
    "# Read the first CSV file\n",
    "df1 = pd.read_csv(csv_with_ec, delimiter=';')\n",
    "\n",
    "# Read the second CSV file\n",
    "df2 = pd.read_csv(csv_with_size, delimiter=';')\n",
    "\n",
    "\n"
   ]
  },
  {
   "cell_type": "code",
   "execution_count": 125,
   "metadata": {},
   "outputs": [
    {
     "name": "stdout",
     "output_type": "stream",
     "text": [
      "Utilities      \n",
      "BusyBox    PSYS    0.145810\n",
      "GNU        PSYS    0.511893\n",
      "ToyBox     PSYS    0.527636\n",
      "Name: Size, dtype: float64\n"
     ]
    }
   ],
   "source": [
    "# Now we want to calculate the Peason correlation between the EC and Size \n",
    "# for all utilities in each 3 different implementations\n",
    "\n",
    "# The \n",
    "\n",
    "input_data = os.path.join(results_dir, 'all_ec_bsize.csv')\n",
    "# Read the CSV file into a DataFrame\n",
    "df = pd.read_csv(input_data, delimiter=\";\")\n",
    "\n",
    "#print(df.dtypes)\n",
    "\n",
    "# Convert 'PSYS' and 'Size' columns to numeric\n",
    "df['PSYS'] = pd.to_numeric(df['PSYS'])\n",
    "df['Size'] = pd.to_numeric(df['Size'])\n",
    "\n",
    "# Calculate Pearson correlation for each 'Utilities' separately\n",
    "correlations = df.groupby('Utilities')[['PSYS', 'Size']].corr(method='pearson').iloc[0::2, -1]\n",
    "\n",
    "# Print the correlations\n",
    "print(correlations)"
   ]
  },
  {
   "cell_type": "code",
   "execution_count": 126,
   "metadata": {},
   "outputs": [
    {
     "name": "stdout",
     "output_type": "stream",
     "text": [
      "Utilities      \n",
      "BusyBox    PSYS    0.466667\n",
      "GNU        PSYS    0.683333\n",
      "ToyBox     PSYS    0.722715\n",
      "Name: Size, dtype: float64\n"
     ]
    }
   ],
   "source": [
    "# The Spearman correlation\n",
    "\n",
    "input_data = os.path.join(results_dir, 'all_ec_bsize.csv')\n",
    "# Read the CSV file into a DataFrame\n",
    "df = pd.read_csv(input_data, delimiter=\";\")\n",
    "\n",
    "# Convert 'PSYS' and 'Size' columns to numeric\n",
    "df['PSYS'] = pd.to_numeric(df['PSYS'])\n",
    "df['Size'] = pd.to_numeric(df['Size'])\n",
    "\n",
    "# Calculate Spearman correlation for each 'Utilities' separately\n",
    "correlations = df.groupby('Utilities')[['PSYS', 'Size']].corr(method='spearman').iloc[0::2, -1]\n",
    "\n",
    "# Print the correlations\n",
    "print(correlations)"
   ]
  },
  {
   "cell_type": "code",
   "execution_count": null,
   "metadata": {},
   "outputs": [],
   "source": []
  }
 ],
 "metadata": {
  "kernelspec": {
   "display_name": "venv",
   "language": "python",
   "name": "python3"
  },
  "language_info": {
   "codemirror_mode": {
    "name": "ipython",
    "version": 3
   },
   "file_extension": ".py",
   "mimetype": "text/x-python",
   "name": "python",
   "nbconvert_exporter": "python",
   "pygments_lexer": "ipython3",
   "version": "3.10.8"
  },
  "orig_nbformat": 4
 },
 "nbformat": 4,
 "nbformat_minor": 2
}
