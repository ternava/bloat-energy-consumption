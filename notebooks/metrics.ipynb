{
 "cells": [
  {
   "cell_type": "code",
   "execution_count": 1,
   "metadata": {},
   "outputs": [],
   "source": [
    "import os\n",
    "import pandas as pd\n",
    "import csv\n"
   ]
  },
  {
   "cell_type": "code",
   "execution_count": null,
   "metadata": {},
   "outputs": [
    {
     "name": "stdout",
     "output_type": "stream",
     "text": [
      "/home/rlefeuvr/Documents/Workspace/Debloat/bloat-energy-consumption /home/rlefeuvr/Documents/Workspace/Debloat/bloat-energy-consumption/notebooks /home/rlefeuvr/Documents/Workspace/Debloat/bloat-energy-consumption/notebooks/results /home/rlefeuvr/Documents/Workspace/Debloat/bloat-energy-consumption/notebooks/data /home/rlefeuvr/Documents/Workspace/Debloat/bloat-energy-consumption/inputs\n"
     ]
    }
   ],
   "source": [
    "# Get the directory with the notebooks, including its subdirectories\n",
    "current_dir = os.getcwd()\n",
    "\n",
    "# Get the directories with data and results\n",
    "data_dir = os.path.join(current_dir, \"data\")\n",
    "temporary_dir= os.path.join(current_dir, \"temporary_data\")\n",
    "results_dir = os.path.join(current_dir, \"results\")\n",
    "\n",
    "project_dir = os.path.dirname(current_dir)\n",
    "\n",
    "inputs_dir = os.path.join(project_dir, \"inputs\")\n",
    "\n",
    "print(project_dir, current_dir, results_dir, data_dir, inputs_dir)"
   ]
  },
  {
   "cell_type": "code",
   "execution_count": null,
   "metadata": {},
   "outputs": [
    {
     "data": {
      "application/vnd.microsoft.datawrangler.viewer.v0+json": {
       "columns": [
        {
         "name": "index",
         "rawType": "int64",
         "type": "integer"
        },
        {
         "name": "Program",
         "rawType": "object",
         "type": "string"
        },
        {
         "name": "Utilities",
         "rawType": "object",
         "type": "string"
        },
        {
         "name": "PSYS",
         "rawType": "float64",
         "type": "float"
        }
       ],
       "conversionMethod": "pd.DataFrame",
       "ref": "593db8a2-e33a-47fb-aae7-bdda423a5bd1",
       "rows": [
        [
         "0",
         "base64",
         "BusyBox",
         "430354.5"
        ],
        [
         "1",
         "base64",
         "GNU",
         "349504.85"
        ],
        [
         "2",
         "base64",
         "ToyBox",
         "907797.9"
        ],
        [
         "3",
         "basename",
         "BusyBox",
         "293712.65"
        ],
        [
         "4",
         "basename",
         "GNU",
         "294027.1"
        ],
        [
         "5",
         "basename",
         "ToyBox",
         "292617.1"
        ],
        [
         "6",
         "cat",
         "BusyBox",
         "37555418.35"
        ],
        [
         "7",
         "cat",
         "GNU",
         "2125736.1"
        ],
        [
         "8",
         "cat",
         "ToyBox",
         "1517433316.2"
        ],
        [
         "9",
         "chmod",
         "BusyBox",
         "1951975.55"
        ],
        [
         "10",
         "chmod",
         "GNU",
         "1539668.7"
        ],
        [
         "11",
         "chmod",
         "ToyBox",
         "1523403.2"
        ],
        [
         "12",
         "cksum",
         "BusyBox",
         "245804674.7"
        ],
        [
         "13",
         "cksum",
         "GNU",
         "11393452.35"
        ],
        [
         "14",
         "cksum",
         "ToyBox",
         "206246026.75"
        ],
        [
         "15",
         "comm",
         "BusyBox",
         "120871544.2"
        ],
        [
         "16",
         "comm",
         "GNU",
         "55065279.7"
        ],
        [
         "17",
         "comm",
         "ToyBox",
         "338316876.9"
        ],
        [
         "18",
         "cp",
         "BusyBox",
         "111249422.3"
        ],
        [
         "19",
         "cp",
         "GNU",
         "108848402.9"
        ],
        [
         "20",
         "cp",
         "ToyBox",
         "147443488.4"
        ],
        [
         "21",
         "cut",
         "BusyBox",
         "4932394.1"
        ],
        [
         "22",
         "cut",
         "GNU",
         "2207312.35"
        ],
        [
         "23",
         "cut",
         "ToyBox",
         "11399989.05"
        ],
        [
         "24",
         "date",
         "BusyBox",
         "312215.25"
        ],
        [
         "25",
         "date",
         "GNU",
         "315367.9"
        ],
        [
         "26",
         "date",
         "ToyBox",
         "315306.9"
        ],
        [
         "27",
         "dirname",
         "BusyBox",
         "310088.4"
        ],
        [
         "28",
         "dirname",
         "GNU",
         "321538.4"
        ],
        [
         "29",
         "dirname",
         "ToyBox",
         "312242.9"
        ],
        [
         "30",
         "du",
         "BusyBox",
         "490593.25"
        ],
        [
         "31",
         "du",
         "GNU",
         "523237.7"
        ],
        [
         "32",
         "du",
         "ToyBox",
         "518535.05"
        ],
        [
         "33",
         "echo",
         "BusyBox",
         "305297.2"
        ],
        [
         "34",
         "echo",
         "GNU",
         "321446.9"
        ],
        [
         "35",
         "echo",
         "ToyBox",
         "310884.75"
        ],
        [
         "36",
         "expand",
         "BusyBox",
         "14566014.9"
        ],
        [
         "37",
         "expand",
         "GNU",
         "7273003.85"
        ],
        [
         "38",
         "expand",
         "ToyBox",
         "502357.8"
        ],
        [
         "39",
         "factor",
         "BusyBox",
         "316259.0"
        ],
        [
         "40",
         "factor",
         "GNU",
         "321971.9"
        ],
        [
         "41",
         "factor",
         "ToyBox",
         "316164.25"
        ],
        [
         "42",
         "false",
         "BusyBox",
         "305318.35"
        ],
        [
         "43",
         "false",
         "GNU",
         "320140.65"
        ],
        [
         "44",
         "false",
         "ToyBox",
         "314748.35"
        ],
        [
         "45",
         "head",
         "BusyBox",
         "307939.85"
        ],
        [
         "46",
         "head",
         "GNU",
         "320018.7"
        ],
        [
         "47",
         "head",
         "ToyBox",
         "314821.5"
        ],
        [
         "48",
         "id",
         "BusyBox",
         "308193.3"
        ],
        [
         "49",
         "id",
         "GNU",
         "327916.7"
        ]
       ],
       "shape": {
        "columns": 3,
        "rows": 84
       }
      },
      "text/html": [
       "<div>\n",
       "<style scoped>\n",
       "    .dataframe tbody tr th:only-of-type {\n",
       "        vertical-align: middle;\n",
       "    }\n",
       "\n",
       "    .dataframe tbody tr th {\n",
       "        vertical-align: top;\n",
       "    }\n",
       "\n",
       "    .dataframe thead th {\n",
       "        text-align: right;\n",
       "    }\n",
       "</style>\n",
       "<table border=\"1\" class=\"dataframe\">\n",
       "  <thead>\n",
       "    <tr style=\"text-align: right;\">\n",
       "      <th></th>\n",
       "      <th>Program</th>\n",
       "      <th>Utilities</th>\n",
       "      <th>PSYS</th>\n",
       "    </tr>\n",
       "  </thead>\n",
       "  <tbody>\n",
       "    <tr>\n",
       "      <th>0</th>\n",
       "      <td>base64</td>\n",
       "      <td>BusyBox</td>\n",
       "      <td>4.303545e+05</td>\n",
       "    </tr>\n",
       "    <tr>\n",
       "      <th>1</th>\n",
       "      <td>base64</td>\n",
       "      <td>GNU</td>\n",
       "      <td>3.495048e+05</td>\n",
       "    </tr>\n",
       "    <tr>\n",
       "      <th>2</th>\n",
       "      <td>base64</td>\n",
       "      <td>ToyBox</td>\n",
       "      <td>9.077979e+05</td>\n",
       "    </tr>\n",
       "    <tr>\n",
       "      <th>3</th>\n",
       "      <td>basename</td>\n",
       "      <td>BusyBox</td>\n",
       "      <td>2.937127e+05</td>\n",
       "    </tr>\n",
       "    <tr>\n",
       "      <th>4</th>\n",
       "      <td>basename</td>\n",
       "      <td>GNU</td>\n",
       "      <td>2.940271e+05</td>\n",
       "    </tr>\n",
       "    <tr>\n",
       "      <th>...</th>\n",
       "      <td>...</td>\n",
       "      <td>...</td>\n",
       "      <td>...</td>\n",
       "    </tr>\n",
       "    <tr>\n",
       "      <th>79</th>\n",
       "      <td>true</td>\n",
       "      <td>GNU</td>\n",
       "      <td>2.947838e+05</td>\n",
       "    </tr>\n",
       "    <tr>\n",
       "      <th>80</th>\n",
       "      <td>true</td>\n",
       "      <td>ToyBox</td>\n",
       "      <td>2.908623e+05</td>\n",
       "    </tr>\n",
       "    <tr>\n",
       "      <th>81</th>\n",
       "      <td>wc</td>\n",
       "      <td>BusyBox</td>\n",
       "      <td>8.755721e+07</td>\n",
       "    </tr>\n",
       "    <tr>\n",
       "      <th>82</th>\n",
       "      <td>wc</td>\n",
       "      <td>GNU</td>\n",
       "      <td>4.546934e+08</td>\n",
       "    </tr>\n",
       "    <tr>\n",
       "      <th>83</th>\n",
       "      <td>wc</td>\n",
       "      <td>ToyBox</td>\n",
       "      <td>1.514813e+08</td>\n",
       "    </tr>\n",
       "  </tbody>\n",
       "</table>\n",
       "<p>84 rows × 3 columns</p>\n",
       "</div>"
      ],
      "text/plain": [
       "     Program Utilities          PSYS\n",
       "0     base64   BusyBox  4.303545e+05\n",
       "1     base64       GNU  3.495048e+05\n",
       "2     base64    ToyBox  9.077979e+05\n",
       "3   basename   BusyBox  2.937127e+05\n",
       "4   basename       GNU  2.940271e+05\n",
       "..       ...       ...           ...\n",
       "79      true       GNU  2.947838e+05\n",
       "80      true    ToyBox  2.908623e+05\n",
       "81        wc   BusyBox  8.755721e+07\n",
       "82        wc       GNU  4.546934e+08\n",
       "83        wc    ToyBox  1.514813e+08\n",
       "\n",
       "[84 rows x 3 columns]"
      ]
     },
     "execution_count": 3,
     "metadata": {},
     "output_type": "execute_result"
    }
   ],
   "source": [
    "# After we need to put together the PSYS and Size values for each program in each of the 3 different implementations\n",
    "\n",
    "# Example usage\n",
    "csv_with_ec = os.path.join(results_dir, 'averagePSYS_all_repeats.csv')\n",
    "# Read the first CSV file\n",
    "df = pd.read_csv(csv_with_ec, delimiter=';')\n",
    "df\n"
   ]
  },
  {
   "cell_type": "code",
   "execution_count": 4,
   "metadata": {},
   "outputs": [
    {
     "data": {
      "application/vnd.microsoft.datawrangler.viewer.v0+json": {
       "columns": [
        {
         "name": "Program",
         "rawType": "object",
         "type": "string"
        },
        {
         "name": "('PSYS', 'BusyBox')",
         "rawType": "float64",
         "type": "float"
        },
        {
         "name": "('PSYS', 'GNU')",
         "rawType": "float64",
         "type": "float"
        },
        {
         "name": "('PSYS', 'ToyBox')",
         "rawType": "float64",
         "type": "float"
        }
       ],
       "conversionMethod": "pd.DataFrame",
       "ref": "543c7d83-3b18-401c-85c4-ee753e68be00",
       "rows": [
        [
         "base64",
         "430354.5",
         "349504.85",
         "907797.9"
        ],
        [
         "basename",
         "293712.65",
         "294027.1",
         "292617.1"
        ],
        [
         "cat",
         "37555418.35",
         "2125736.1",
         "1517433316.2"
        ],
        [
         "chmod",
         "1951975.55",
         "1539668.7",
         "1523403.2"
        ],
        [
         "cksum",
         "245804674.7",
         "11393452.35",
         "206246026.75"
        ],
        [
         "comm",
         "120871544.2",
         "55065279.7",
         "338316876.9"
        ],
        [
         "cp",
         "111249422.3",
         "108848402.9",
         "147443488.4"
        ],
        [
         "cut",
         "4932394.1",
         "2207312.35",
         "11399989.05"
        ],
        [
         "date",
         "312215.25",
         "315367.9",
         "315306.9"
        ],
        [
         "dirname",
         "310088.4",
         "321538.4",
         "312242.9"
        ],
        [
         "du",
         "490593.25",
         "523237.7",
         "518535.05"
        ],
        [
         "echo",
         "305297.2",
         "321446.9",
         "310884.75"
        ],
        [
         "expand",
         "14566014.9",
         "7273003.85",
         "502357.8"
        ],
        [
         "factor",
         "316259.0",
         "321971.9",
         "316164.25"
        ],
        [
         "false",
         "305318.35",
         "320140.65",
         "314748.35"
        ],
        [
         "head",
         "307939.85",
         "320018.7",
         "314821.5"
        ],
        [
         "id",
         "308193.3",
         "327916.7",
         "313204.25"
        ],
        [
         "link",
         "306343.65",
         "317284.3",
         "312355.8"
        ],
        [
         "ln",
         "305120.05",
         "322475.35",
         "335704.6"
        ],
        [
         "logname",
         "310082.15",
         "322386.9",
         "310829.8"
        ],
        [
         "ls",
         "898062.85",
         "1048413.35",
         "3487466.7"
        ],
        [
         "md5sum",
         "143150640.5",
         "118599778.8",
         "264030510.05"
        ],
        [
         "mkdir",
         "297652.6",
         "306612.3",
         "300334.95"
        ],
        [
         "mv",
         "295278.2",
         "306938.95",
         "296898.8"
        ],
        [
         "sort",
         "318299264.7",
         "95543426.25",
         "469334195.7"
        ],
        [
         "touch",
         "294509.05",
         "295195.75",
         "295180.6"
        ],
        [
         "true",
         "294853.9",
         "294783.85",
         "290862.3"
        ],
        [
         "wc",
         "87557206.75",
         "454693406.8",
         "151481252.75"
        ]
       ],
       "shape": {
        "columns": 3,
        "rows": 28
       }
      },
      "text/html": [
       "<div>\n",
       "<style scoped>\n",
       "    .dataframe tbody tr th:only-of-type {\n",
       "        vertical-align: middle;\n",
       "    }\n",
       "\n",
       "    .dataframe tbody tr th {\n",
       "        vertical-align: top;\n",
       "    }\n",
       "\n",
       "    .dataframe thead tr th {\n",
       "        text-align: left;\n",
       "    }\n",
       "\n",
       "    .dataframe thead tr:last-of-type th {\n",
       "        text-align: right;\n",
       "    }\n",
       "</style>\n",
       "<table border=\"1\" class=\"dataframe\">\n",
       "  <thead>\n",
       "    <tr>\n",
       "      <th></th>\n",
       "      <th colspan=\"3\" halign=\"left\">PSYS</th>\n",
       "    </tr>\n",
       "    <tr>\n",
       "      <th>Utilities</th>\n",
       "      <th>BusyBox</th>\n",
       "      <th>GNU</th>\n",
       "      <th>ToyBox</th>\n",
       "    </tr>\n",
       "    <tr>\n",
       "      <th>Program</th>\n",
       "      <th></th>\n",
       "      <th></th>\n",
       "      <th></th>\n",
       "    </tr>\n",
       "  </thead>\n",
       "  <tbody>\n",
       "    <tr>\n",
       "      <th>base64</th>\n",
       "      <td>4.303545e+05</td>\n",
       "      <td>3.495048e+05</td>\n",
       "      <td>9.077979e+05</td>\n",
       "    </tr>\n",
       "    <tr>\n",
       "      <th>basename</th>\n",
       "      <td>2.937127e+05</td>\n",
       "      <td>2.940271e+05</td>\n",
       "      <td>2.926171e+05</td>\n",
       "    </tr>\n",
       "    <tr>\n",
       "      <th>cat</th>\n",
       "      <td>3.755542e+07</td>\n",
       "      <td>2.125736e+06</td>\n",
       "      <td>1.517433e+09</td>\n",
       "    </tr>\n",
       "    <tr>\n",
       "      <th>chmod</th>\n",
       "      <td>1.951976e+06</td>\n",
       "      <td>1.539669e+06</td>\n",
       "      <td>1.523403e+06</td>\n",
       "    </tr>\n",
       "    <tr>\n",
       "      <th>cksum</th>\n",
       "      <td>2.458047e+08</td>\n",
       "      <td>1.139345e+07</td>\n",
       "      <td>2.062460e+08</td>\n",
       "    </tr>\n",
       "    <tr>\n",
       "      <th>comm</th>\n",
       "      <td>1.208715e+08</td>\n",
       "      <td>5.506528e+07</td>\n",
       "      <td>3.383169e+08</td>\n",
       "    </tr>\n",
       "    <tr>\n",
       "      <th>cp</th>\n",
       "      <td>1.112494e+08</td>\n",
       "      <td>1.088484e+08</td>\n",
       "      <td>1.474435e+08</td>\n",
       "    </tr>\n",
       "    <tr>\n",
       "      <th>cut</th>\n",
       "      <td>4.932394e+06</td>\n",
       "      <td>2.207312e+06</td>\n",
       "      <td>1.139999e+07</td>\n",
       "    </tr>\n",
       "    <tr>\n",
       "      <th>date</th>\n",
       "      <td>3.122152e+05</td>\n",
       "      <td>3.153679e+05</td>\n",
       "      <td>3.153069e+05</td>\n",
       "    </tr>\n",
       "    <tr>\n",
       "      <th>dirname</th>\n",
       "      <td>3.100884e+05</td>\n",
       "      <td>3.215384e+05</td>\n",
       "      <td>3.122429e+05</td>\n",
       "    </tr>\n",
       "    <tr>\n",
       "      <th>du</th>\n",
       "      <td>4.905932e+05</td>\n",
       "      <td>5.232377e+05</td>\n",
       "      <td>5.185350e+05</td>\n",
       "    </tr>\n",
       "    <tr>\n",
       "      <th>echo</th>\n",
       "      <td>3.052972e+05</td>\n",
       "      <td>3.214469e+05</td>\n",
       "      <td>3.108848e+05</td>\n",
       "    </tr>\n",
       "    <tr>\n",
       "      <th>expand</th>\n",
       "      <td>1.456601e+07</td>\n",
       "      <td>7.273004e+06</td>\n",
       "      <td>5.023578e+05</td>\n",
       "    </tr>\n",
       "    <tr>\n",
       "      <th>factor</th>\n",
       "      <td>3.162590e+05</td>\n",
       "      <td>3.219719e+05</td>\n",
       "      <td>3.161642e+05</td>\n",
       "    </tr>\n",
       "    <tr>\n",
       "      <th>false</th>\n",
       "      <td>3.053183e+05</td>\n",
       "      <td>3.201407e+05</td>\n",
       "      <td>3.147483e+05</td>\n",
       "    </tr>\n",
       "    <tr>\n",
       "      <th>head</th>\n",
       "      <td>3.079398e+05</td>\n",
       "      <td>3.200187e+05</td>\n",
       "      <td>3.148215e+05</td>\n",
       "    </tr>\n",
       "    <tr>\n",
       "      <th>id</th>\n",
       "      <td>3.081933e+05</td>\n",
       "      <td>3.279167e+05</td>\n",
       "      <td>3.132042e+05</td>\n",
       "    </tr>\n",
       "    <tr>\n",
       "      <th>link</th>\n",
       "      <td>3.063437e+05</td>\n",
       "      <td>3.172843e+05</td>\n",
       "      <td>3.123558e+05</td>\n",
       "    </tr>\n",
       "    <tr>\n",
       "      <th>ln</th>\n",
       "      <td>3.051200e+05</td>\n",
       "      <td>3.224753e+05</td>\n",
       "      <td>3.357046e+05</td>\n",
       "    </tr>\n",
       "    <tr>\n",
       "      <th>logname</th>\n",
       "      <td>3.100822e+05</td>\n",
       "      <td>3.223869e+05</td>\n",
       "      <td>3.108298e+05</td>\n",
       "    </tr>\n",
       "    <tr>\n",
       "      <th>ls</th>\n",
       "      <td>8.980628e+05</td>\n",
       "      <td>1.048413e+06</td>\n",
       "      <td>3.487467e+06</td>\n",
       "    </tr>\n",
       "    <tr>\n",
       "      <th>md5sum</th>\n",
       "      <td>1.431506e+08</td>\n",
       "      <td>1.185998e+08</td>\n",
       "      <td>2.640305e+08</td>\n",
       "    </tr>\n",
       "    <tr>\n",
       "      <th>mkdir</th>\n",
       "      <td>2.976526e+05</td>\n",
       "      <td>3.066123e+05</td>\n",
       "      <td>3.003350e+05</td>\n",
       "    </tr>\n",
       "    <tr>\n",
       "      <th>mv</th>\n",
       "      <td>2.952782e+05</td>\n",
       "      <td>3.069390e+05</td>\n",
       "      <td>2.968988e+05</td>\n",
       "    </tr>\n",
       "    <tr>\n",
       "      <th>sort</th>\n",
       "      <td>3.182993e+08</td>\n",
       "      <td>9.554343e+07</td>\n",
       "      <td>4.693342e+08</td>\n",
       "    </tr>\n",
       "    <tr>\n",
       "      <th>touch</th>\n",
       "      <td>2.945090e+05</td>\n",
       "      <td>2.951958e+05</td>\n",
       "      <td>2.951806e+05</td>\n",
       "    </tr>\n",
       "    <tr>\n",
       "      <th>true</th>\n",
       "      <td>2.948539e+05</td>\n",
       "      <td>2.947838e+05</td>\n",
       "      <td>2.908623e+05</td>\n",
       "    </tr>\n",
       "    <tr>\n",
       "      <th>wc</th>\n",
       "      <td>8.755721e+07</td>\n",
       "      <td>4.546934e+08</td>\n",
       "      <td>1.514813e+08</td>\n",
       "    </tr>\n",
       "  </tbody>\n",
       "</table>\n",
       "</div>"
      ],
      "text/plain": [
       "                   PSYS                            \n",
       "Utilities       BusyBox           GNU        ToyBox\n",
       "Program                                            \n",
       "base64     4.303545e+05  3.495048e+05  9.077979e+05\n",
       "basename   2.937127e+05  2.940271e+05  2.926171e+05\n",
       "cat        3.755542e+07  2.125736e+06  1.517433e+09\n",
       "chmod      1.951976e+06  1.539669e+06  1.523403e+06\n",
       "cksum      2.458047e+08  1.139345e+07  2.062460e+08\n",
       "comm       1.208715e+08  5.506528e+07  3.383169e+08\n",
       "cp         1.112494e+08  1.088484e+08  1.474435e+08\n",
       "cut        4.932394e+06  2.207312e+06  1.139999e+07\n",
       "date       3.122152e+05  3.153679e+05  3.153069e+05\n",
       "dirname    3.100884e+05  3.215384e+05  3.122429e+05\n",
       "du         4.905932e+05  5.232377e+05  5.185350e+05\n",
       "echo       3.052972e+05  3.214469e+05  3.108848e+05\n",
       "expand     1.456601e+07  7.273004e+06  5.023578e+05\n",
       "factor     3.162590e+05  3.219719e+05  3.161642e+05\n",
       "false      3.053183e+05  3.201407e+05  3.147483e+05\n",
       "head       3.079398e+05  3.200187e+05  3.148215e+05\n",
       "id         3.081933e+05  3.279167e+05  3.132042e+05\n",
       "link       3.063437e+05  3.172843e+05  3.123558e+05\n",
       "ln         3.051200e+05  3.224753e+05  3.357046e+05\n",
       "logname    3.100822e+05  3.223869e+05  3.108298e+05\n",
       "ls         8.980628e+05  1.048413e+06  3.487467e+06\n",
       "md5sum     1.431506e+08  1.185998e+08  2.640305e+08\n",
       "mkdir      2.976526e+05  3.066123e+05  3.003350e+05\n",
       "mv         2.952782e+05  3.069390e+05  2.968988e+05\n",
       "sort       3.182993e+08  9.554343e+07  4.693342e+08\n",
       "touch      2.945090e+05  2.951958e+05  2.951806e+05\n",
       "true       2.948539e+05  2.947838e+05  2.908623e+05\n",
       "wc         8.755721e+07  4.546934e+08  1.514813e+08"
      ]
     },
     "execution_count": 4,
     "metadata": {},
     "output_type": "execute_result"
    }
   ],
   "source": [
    "df_pivot = df.pivot(index='Program', columns='Utilities')\n",
    "df_pivot\n"
   ]
  },
  {
   "cell_type": "code",
   "execution_count": null,
   "metadata": {},
   "outputs": [
    {
     "data": {
      "application/vnd.microsoft.datawrangler.viewer.v0+json": {
       "columns": [
        {
         "name": "Program",
         "rawType": "object",
         "type": "string"
        },
        {
         "name": "BusyBox",
         "rawType": "float64",
         "type": "float"
        },
        {
         "name": "ToyBox",
         "rawType": "float64",
         "type": "float"
        }
       ],
       "conversionMethod": "pd.DataFrame",
       "ref": "99fa96bb-04d5-4a1e-9f8f-3b2a7d5dab2a",
       "rows": [
        [
         "base64",
         "23.13",
         "159.74"
        ],
        [
         "basename",
         "-0.11",
         "-0.48"
        ],
        [
         "cat",
         "1666.7",
         "71283.9"
        ],
        [
         "chmod",
         "26.78",
         "-1.06"
        ],
        [
         "cksum",
         "2057.42",
         "1710.22"
        ],
        [
         "comm",
         "119.51",
         "514.39"
        ],
        [
         "cp",
         "2.21",
         "35.46"
        ],
        [
         "cut",
         "123.46",
         "416.46"
        ],
        [
         "date",
         "-1.0",
         "-0.02"
        ],
        [
         "dirname",
         "-3.56",
         "-2.89"
        ],
        [
         "du",
         "-6.24",
         "-0.9"
        ],
        [
         "echo",
         "-5.02",
         "-3.29"
        ],
        [
         "expand",
         "100.28",
         "-93.09"
        ],
        [
         "factor",
         "-1.77",
         "-1.8"
        ],
        [
         "false",
         "-4.63",
         "-1.68"
        ],
        [
         "head",
         "-3.77",
         "-1.62"
        ],
        [
         "id",
         "-6.01",
         "-4.49"
        ],
        [
         "link",
         "-3.45",
         "-1.55"
        ],
        [
         "ln",
         "-5.38",
         "4.1"
        ],
        [
         "logname",
         "-3.82",
         "-3.58"
        ],
        [
         "ls",
         "-14.34",
         "232.64"
        ],
        [
         "md5sum",
         "20.7",
         "122.62"
        ],
        [
         "mkdir",
         "-2.92",
         "-2.05"
        ],
        [
         "mv",
         "-3.8",
         "-3.27"
        ],
        [
         "sort",
         "233.15",
         "391.23"
        ],
        [
         "touch",
         "-0.23",
         "-0.01"
        ],
        [
         "true",
         "0.02",
         "-1.33"
        ],
        [
         "wc",
         "-80.74",
         "-66.68"
        ]
       ],
       "shape": {
        "columns": 2,
        "rows": 28
       }
      },
      "text/html": [
       "<div>\n",
       "<style scoped>\n",
       "    .dataframe tbody tr th:only-of-type {\n",
       "        vertical-align: middle;\n",
       "    }\n",
       "\n",
       "    .dataframe tbody tr th {\n",
       "        vertical-align: top;\n",
       "    }\n",
       "\n",
       "    .dataframe thead th {\n",
       "        text-align: right;\n",
       "    }\n",
       "</style>\n",
       "<table border=\"1\" class=\"dataframe\">\n",
       "  <thead>\n",
       "    <tr style=\"text-align: right;\">\n",
       "      <th></th>\n",
       "      <th>BusyBox</th>\n",
       "      <th>ToyBox</th>\n",
       "    </tr>\n",
       "    <tr>\n",
       "      <th>Program</th>\n",
       "      <th></th>\n",
       "      <th></th>\n",
       "    </tr>\n",
       "  </thead>\n",
       "  <tbody>\n",
       "    <tr>\n",
       "      <th>base64</th>\n",
       "      <td>23.13</td>\n",
       "      <td>159.74</td>\n",
       "    </tr>\n",
       "    <tr>\n",
       "      <th>basename</th>\n",
       "      <td>-0.11</td>\n",
       "      <td>-0.48</td>\n",
       "    </tr>\n",
       "    <tr>\n",
       "      <th>cat</th>\n",
       "      <td>1666.70</td>\n",
       "      <td>71283.90</td>\n",
       "    </tr>\n",
       "    <tr>\n",
       "      <th>chmod</th>\n",
       "      <td>26.78</td>\n",
       "      <td>-1.06</td>\n",
       "    </tr>\n",
       "    <tr>\n",
       "      <th>cksum</th>\n",
       "      <td>2057.42</td>\n",
       "      <td>1710.22</td>\n",
       "    </tr>\n",
       "    <tr>\n",
       "      <th>comm</th>\n",
       "      <td>119.51</td>\n",
       "      <td>514.39</td>\n",
       "    </tr>\n",
       "    <tr>\n",
       "      <th>cp</th>\n",
       "      <td>2.21</td>\n",
       "      <td>35.46</td>\n",
       "    </tr>\n",
       "    <tr>\n",
       "      <th>cut</th>\n",
       "      <td>123.46</td>\n",
       "      <td>416.46</td>\n",
       "    </tr>\n",
       "    <tr>\n",
       "      <th>date</th>\n",
       "      <td>-1.00</td>\n",
       "      <td>-0.02</td>\n",
       "    </tr>\n",
       "    <tr>\n",
       "      <th>dirname</th>\n",
       "      <td>-3.56</td>\n",
       "      <td>-2.89</td>\n",
       "    </tr>\n",
       "    <tr>\n",
       "      <th>du</th>\n",
       "      <td>-6.24</td>\n",
       "      <td>-0.90</td>\n",
       "    </tr>\n",
       "    <tr>\n",
       "      <th>echo</th>\n",
       "      <td>-5.02</td>\n",
       "      <td>-3.29</td>\n",
       "    </tr>\n",
       "    <tr>\n",
       "      <th>expand</th>\n",
       "      <td>100.28</td>\n",
       "      <td>-93.09</td>\n",
       "    </tr>\n",
       "    <tr>\n",
       "      <th>factor</th>\n",
       "      <td>-1.77</td>\n",
       "      <td>-1.80</td>\n",
       "    </tr>\n",
       "    <tr>\n",
       "      <th>false</th>\n",
       "      <td>-4.63</td>\n",
       "      <td>-1.68</td>\n",
       "    </tr>\n",
       "    <tr>\n",
       "      <th>head</th>\n",
       "      <td>-3.77</td>\n",
       "      <td>-1.62</td>\n",
       "    </tr>\n",
       "    <tr>\n",
       "      <th>id</th>\n",
       "      <td>-6.01</td>\n",
       "      <td>-4.49</td>\n",
       "    </tr>\n",
       "    <tr>\n",
       "      <th>link</th>\n",
       "      <td>-3.45</td>\n",
       "      <td>-1.55</td>\n",
       "    </tr>\n",
       "    <tr>\n",
       "      <th>ln</th>\n",
       "      <td>-5.38</td>\n",
       "      <td>4.10</td>\n",
       "    </tr>\n",
       "    <tr>\n",
       "      <th>logname</th>\n",
       "      <td>-3.82</td>\n",
       "      <td>-3.58</td>\n",
       "    </tr>\n",
       "    <tr>\n",
       "      <th>ls</th>\n",
       "      <td>-14.34</td>\n",
       "      <td>232.64</td>\n",
       "    </tr>\n",
       "    <tr>\n",
       "      <th>md5sum</th>\n",
       "      <td>20.70</td>\n",
       "      <td>122.62</td>\n",
       "    </tr>\n",
       "    <tr>\n",
       "      <th>mkdir</th>\n",
       "      <td>-2.92</td>\n",
       "      <td>-2.05</td>\n",
       "    </tr>\n",
       "    <tr>\n",
       "      <th>mv</th>\n",
       "      <td>-3.80</td>\n",
       "      <td>-3.27</td>\n",
       "    </tr>\n",
       "    <tr>\n",
       "      <th>sort</th>\n",
       "      <td>233.15</td>\n",
       "      <td>391.23</td>\n",
       "    </tr>\n",
       "    <tr>\n",
       "      <th>touch</th>\n",
       "      <td>-0.23</td>\n",
       "      <td>-0.01</td>\n",
       "    </tr>\n",
       "    <tr>\n",
       "      <th>true</th>\n",
       "      <td>0.02</td>\n",
       "      <td>-1.33</td>\n",
       "    </tr>\n",
       "    <tr>\n",
       "      <th>wc</th>\n",
       "      <td>-80.74</td>\n",
       "      <td>-66.68</td>\n",
       "    </tr>\n",
       "  </tbody>\n",
       "</table>\n",
       "</div>"
      ],
      "text/plain": [
       "          BusyBox    ToyBox\n",
       "Program                    \n",
       "base64      23.13    159.74\n",
       "basename    -0.11     -0.48\n",
       "cat       1666.70  71283.90\n",
       "chmod       26.78     -1.06\n",
       "cksum     2057.42   1710.22\n",
       "comm       119.51    514.39\n",
       "cp           2.21     35.46\n",
       "cut        123.46    416.46\n",
       "date        -1.00     -0.02\n",
       "dirname     -3.56     -2.89\n",
       "du          -6.24     -0.90\n",
       "echo        -5.02     -3.29\n",
       "expand     100.28    -93.09\n",
       "factor      -1.77     -1.80\n",
       "false       -4.63     -1.68\n",
       "head        -3.77     -1.62\n",
       "id          -6.01     -4.49\n",
       "link        -3.45     -1.55\n",
       "ln          -5.38      4.10\n",
       "logname     -3.82     -3.58\n",
       "ls         -14.34    232.64\n",
       "md5sum      20.70    122.62\n",
       "mkdir       -2.92     -2.05\n",
       "mv          -3.80     -3.27\n",
       "sort       233.15    391.23\n",
       "touch       -0.23     -0.01\n",
       "true         0.02     -1.33\n",
       "wc         -80.74    -66.68"
      ]
     },
     "execution_count": 5,
     "metadata": {},
     "output_type": "execute_result"
    }
   ],
   "source": [
    "df_pivot['Difference_BusyBox'] = ((df_pivot['PSYS']['BusyBox'] - df_pivot['PSYS']['GNU']) / df_pivot['PSYS']['GNU']) * 100\n",
    "df_pivot['Difference_ToyBox'] = ((df_pivot['PSYS']['ToyBox'] - df_pivot['PSYS']['GNU']) / df_pivot['PSYS']['GNU']) * 100\n",
    "new_df = pd.DataFrame({\n",
    "                       'BusyBox': df_pivot['Difference_BusyBox'].round(2),\n",
    "                       'ToyBox': df_pivot['Difference_ToyBox'].round(2)})\n",
    "new_df\n"
   ]
  }
 ],
 "metadata": {
  "kernelspec": {
   "display_name": ".venv",
   "language": "python",
   "name": "python3"
  },
  "language_info": {
   "codemirror_mode": {
    "name": "ipython",
    "version": 3
   },
   "file_extension": ".py",
   "mimetype": "text/x-python",
   "name": "python",
   "nbconvert_exporter": "python",
   "pygments_lexer": "ipython3",
   "version": "3.12.4"
  },
  "orig_nbformat": 4
 },
 "nbformat": 4,
 "nbformat_minor": 2
}
