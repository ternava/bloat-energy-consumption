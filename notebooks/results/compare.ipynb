{
 "cells": [
  {
   "cell_type": "code",
   "execution_count": 5,
   "metadata": {},
   "outputs": [],
   "source": [
    "import pandas as pd\n",
    "import os"
   ]
  },
  {
   "cell_type": "code",
   "execution_count": 41,
   "metadata": {},
   "outputs": [],
   "source": [
    "# The directory where the CSV files are located\n",
    "directory = '/home/xternava/Documents/GitHub/bloat-energy-consumption/notebooks/data/'"
   ]
  },
  {
   "cell_type": "code",
   "execution_count": 42,
   "metadata": {},
   "outputs": [],
   "source": [
    "# Get a list of all CSV files in that directory\n",
    "csv_files = [file for file in os.listdir(directory) if file.endswith('.csv')]"
   ]
  },
  {
   "cell_type": "code",
   "execution_count": 54,
   "metadata": {},
   "outputs": [
    {
     "name": "stdout",
     "output_type": "stream",
     "text": [
      "['data-BusyBox-mv0101.csv' 'data-GNU-mv0102.csv' 'data-ToyBox-mv0101.csv'\n",
      " 'data-BusyBox-mv0201.csv' 'data-GNU-mv0103.csv' 'data-GNU-mv0101.csv'\n",
      " 'data-ToyBox-mv0201.csv' 'data-GNU-mv0201.csv']\n"
     ]
    }
   ],
   "source": [
    "# An empty DataFrame to store the combined data\n",
    "combined_data = pd.DataFrame()\n",
    "\n",
    "# Iterate over each CSV file\n",
    "for file in csv_files:\n",
    "    # Read the CSV file into a DataFrame\n",
    "    file_path = os.path.join(directory, file)\n",
    "    data = pd.read_csv(file_path)\n",
    "    \n",
    "    # Add a new column with the file name\n",
    "    data['File Name'] = file\n",
    "    \n",
    "    # Append the data to the combined_data DataFrame\n",
    "    combined_data = pd.concat([combined_data, data], ignore_index=True)\n",
    "\n",
    "# Save the combined data to a new CSV file\n",
    "combined_file_path = os.path.join(directory, 'combined_data.csv')\n",
    "combined_data.to_csv(combined_file_path, index=False)\n",
    "\n",
    "# Print the name of combined files\n",
    "print(combined_data['File Name'].unique())"
   ]
  },
  {
   "cell_type": "code",
   "execution_count": 69,
   "metadata": {},
   "outputs": [],
   "source": [
    "# Read the combined data from the CSV file\n",
    "combined_file_path = '/home/xternava/Documents/GitHub/bloat-energy-consumption/notebooks/data/combined_data.csv'\n",
    "combined_data = pd.read_csv(combined_file_path)\n",
    "\n",
    "# Split the \"File Name\" column into three parts using dashes as separators\n",
    "split_names = combined_data['File Name'].str.split('-', n=2, expand=True)\n",
    "\n",
    "# Create three new columns in the dataset\n",
    "combined_data['Name 1'] = split_names[0]\n",
    "combined_data['Name 2'] = split_names[1]\n",
    "combined_data['Name 3'] = split_names[2]\n",
    "\n",
    "# Save the updated dataset to a new CSV file\n",
    "updated_file_path = '/home/xternava/Documents/GitHub/bloat-energy-consumption/notebooks/data/updated_data.csv'\n",
    "combined_data.to_csv(updated_file_path, index=False)"
   ]
  },
  {
   "attachments": {},
   "cell_type": "markdown",
   "metadata": {},
   "source": []
  },
  {
   "cell_type": "code",
   "execution_count": 78,
   "metadata": {},
   "outputs": [
    {
     "name": "stdout",
     "output_type": "stream",
     "text": [
      "  iteration;CORE;CPU;DRAM;DURATION;PSYS;UNCORE;EXIT_CODE  \\\n",
      "3        0;124329;161743;20691;12074;359558;3967;127       \n",
      "6           0;93139;141723;12390;11364;299011;2869;0       \n",
      "7          0;127868;156188;23804;11303;352599;6836;0       \n",
      "\n",
      "                 File Name Name 1   Name 2      Name 3  \n",
      "3  data-BusyBox-mv0201.csv   data  BusyBox  mv0201.csv  \n",
      "6   data-ToyBox-mv0201.csv   data   ToyBox  mv0201.csv  \n",
      "7      data-GNU-mv0201.csv   data      GNU  mv0201.csv  \n"
     ]
    }
   ],
   "source": [
    "# Filter the rows based on the \"Name 3\" column\n",
    "filtered_data = combined_data[combined_data['Name 3'] == 'mv0201.csv']\n",
    "print(filtered_data)\n",
    "\n",
    "# Save the filtered data to a new CSV file\n",
    "filtered_file_path = '/home/xternava/Documents/GitHub/bloat-energy-consumption/notebooks/data/filtered_data2.csv'\n",
    "filtered_data.to_csv(filtered_file_path, index=False)"
   ]
  },
  {
   "cell_type": "code",
   "execution_count": 76,
   "metadata": {},
   "outputs": [],
   "source": [
    "# Group the data based on the \"Name 3\" column\n",
    "#grouped_data = combined_data.groupby('Name 3')\n",
    "\n",
    "# Iterate over the groups\n",
    "#for group, group_df in grouped_data:\n",
    "#    print(f\"Group: {group}\")\n",
    "#    print(group_df)\n",
    "#    print(\"\\n\")"
   ]
  }
 ],
 "metadata": {
  "kernelspec": {
   "display_name": "venv",
   "language": "python",
   "name": "python3"
  },
  "language_info": {
   "codemirror_mode": {
    "name": "ipython",
    "version": 3
   },
   "file_extension": ".py",
   "mimetype": "text/x-python",
   "name": "python",
   "nbconvert_exporter": "python",
   "pygments_lexer": "ipython3",
   "version": "3.10.8"
  },
  "orig_nbformat": 4
 },
 "nbformat": 4,
 "nbformat_minor": 2
}
